{
 "cells": [
  {
   "cell_type": "markdown",
   "metadata": {},
   "source": [
    "\n",
    "### Examining racial discrimination in the US job market\n",
    "\n",
    "#### Background\n",
    "Racial discrimination continues to be pervasive in cultures throughout the world. Researchers examined the level of racial discrimination in the United States labor market by randomly assigning identical résumés black-sounding or white-sounding names and observing the impact on requests for interviews from employers.\n",
    "\n",
    "#### Data\n",
    "In the dataset provided, each row represents a resume. The 'race' column has two values, 'b' and 'w', indicating black-sounding and white-sounding. The column 'call' has two values, 1 and 0, indicating whether the resume received a call from employers or not.\n",
    "\n",
    "Note that the 'b' and 'w' values in race are assigned randomly to the resumes.\n",
    "\n",
    "#### Exercise\n",
    "You will perform a statistical analysis to establish whether race has a significant impact on the rate of callbacks for resumes.\n",
    "\n",
    "Answer the following questions **in this notebook below and submit to your Github account**. \n",
    "\n",
    "   1. What test is appropriate for this problem? Does CLT apply?\n",
    "   2. What are the null and alternate hypotheses?\n",
    "   3. Compute margin of error, confidence interval, and p-value.\n",
    "   4. Discuss statistical significance.\n",
    "\n",
    "You can include written notes in notebook cells using Markdown: \n",
    "   - In the control panel at the top, choose Cell > Cell Type > Markdown\n",
    "   - Markdown syntax: http://nestacms.com/docs/creating-content/markdown-cheat-sheet\n",
    "\n",
    "\n",
    "#### Resources\n",
    "+ Experiment information and data source: http://www.povertyactionlab.org/evaluation/discrimination-job-market-united-states\n",
    "+ Scipy statistical methods: http://docs.scipy.org/doc/scipy/reference/stats.html \n",
    "+ Markdown syntax: http://nestacms.com/docs/creating-content/markdown-cheat-sheet\n",
    "\n",
    "****"
   ]
  },
  {
   "cell_type": "code",
   "execution_count": 1,
   "metadata": {
    "collapsed": true
   },
   "outputs": [],
   "source": [
    "import pandas as pd\n",
    "import numpy as np\n",
    "from scipy import stats"
   ]
  },
  {
   "cell_type": "code",
   "execution_count": 2,
   "metadata": {
    "collapsed": false
   },
   "outputs": [],
   "source": [
    "data = pd.io.stata.read_stata('data/us_job_market_discrimination.dta')"
   ]
  },
  {
   "cell_type": "code",
   "execution_count": 3,
   "metadata": {
    "collapsed": false
   },
   "outputs": [
    {
     "data": {
      "text/plain": [
       "157.0"
      ]
     },
     "execution_count": 3,
     "metadata": {},
     "output_type": "execute_result"
    }
   ],
   "source": [
    "# number of callbacks for black-sounding names\n",
    "sum(data[data.race=='b'].call)"
   ]
  },
  {
   "cell_type": "code",
   "execution_count": 4,
   "metadata": {
    "collapsed": false
   },
   "outputs": [
    {
     "name": "stdout",
     "output_type": "stream",
     "text": [
      "<class 'pandas.core.frame.DataFrame'>\n",
      "Int64Index: 4870 entries, 0 to 4869\n",
      "Data columns (total 65 columns):\n",
      "id                    4870 non-null object\n",
      "ad                    4870 non-null object\n",
      "education             4870 non-null int8\n",
      "ofjobs                4870 non-null int8\n",
      "yearsexp              4870 non-null int8\n",
      "honors                4870 non-null int8\n",
      "volunteer             4870 non-null int8\n",
      "military              4870 non-null int8\n",
      "empholes              4870 non-null int8\n",
      "occupspecific         4870 non-null int16\n",
      "occupbroad            4870 non-null int8\n",
      "workinschool          4870 non-null int8\n",
      "email                 4870 non-null int8\n",
      "computerskills        4870 non-null int8\n",
      "specialskills         4870 non-null int8\n",
      "firstname             4870 non-null object\n",
      "sex                   4870 non-null object\n",
      "race                  4870 non-null object\n",
      "h                     4870 non-null float32\n",
      "l                     4870 non-null float32\n",
      "call                  4870 non-null float32\n",
      "city                  4870 non-null object\n",
      "kind                  4870 non-null object\n",
      "adid                  4870 non-null float32\n",
      "fracblack             4784 non-null float32\n",
      "fracwhite             4784 non-null float32\n",
      "lmedhhinc             4784 non-null float32\n",
      "fracdropout           4784 non-null float32\n",
      "fraccolp              4784 non-null float32\n",
      "linc                  4784 non-null float32\n",
      "col                   4870 non-null float32\n",
      "expminreq             4870 non-null object\n",
      "schoolreq             4870 non-null object\n",
      "eoe                   4870 non-null float32\n",
      "parent_sales          1672 non-null float32\n",
      "parent_emp            1722 non-null float32\n",
      "branch_sales          608 non-null float32\n",
      "branch_emp            658 non-null float32\n",
      "fed                   3102 non-null float32\n",
      "fracblack_empzip      1918 non-null float32\n",
      "fracwhite_empzip      1918 non-null float32\n",
      "lmedhhinc_empzip      1908 non-null float32\n",
      "fracdropout_empzip    1918 non-null float32\n",
      "fraccolp_empzip       1918 non-null float32\n",
      "linc_empzip           1918 non-null float32\n",
      "manager               4870 non-null float32\n",
      "supervisor            4870 non-null float32\n",
      "secretary             4870 non-null float32\n",
      "offsupport            4870 non-null float32\n",
      "salesrep              4870 non-null float32\n",
      "retailsales           4870 non-null float32\n",
      "req                   4870 non-null float32\n",
      "expreq                4870 non-null float32\n",
      "comreq                4870 non-null float32\n",
      "educreq               4870 non-null float32\n",
      "compreq               4870 non-null float32\n",
      "orgreq                4870 non-null float32\n",
      "manuf                 4870 non-null float32\n",
      "transcom              4870 non-null float32\n",
      "bankreal              4870 non-null float32\n",
      "trade                 4870 non-null float32\n",
      "busservice            4870 non-null float32\n",
      "othservice            4870 non-null float32\n",
      "missind               4870 non-null float32\n",
      "ownership             4870 non-null object\n",
      "dtypes: float32(42), int16(1), int8(12), object(10)\n",
      "memory usage: 1.3+ MB\n"
     ]
    }
   ],
   "source": [
    "data.info()"
   ]
  },
  {
   "cell_type": "markdown",
   "metadata": {},
   "source": [
    "#### First thing to notice is the fact that there are some fields which won't have the same number of values as the others. This means that those fields will have a lot of NaN's and we might want to be careful into considering this in further analysis. "
   ]
  },
  {
   "cell_type": "markdown",
   "metadata": {},
   "source": [
    "## The first problem we want to tackle is **which test is appropriate** for this problem?\n",
    "\n",
    "Since we have two categorical variables to examine, it might make sense to **estimate the difference between proportions.** "
   ]
  },
  {
   "cell_type": "code",
   "execution_count": 5,
   "metadata": {
    "collapsed": false
   },
   "outputs": [
    {
     "data": {
      "text/html": [
       "<div>\n",
       "<table border=\"1\" class=\"dataframe\">\n",
       "  <thead>\n",
       "    <tr style=\"text-align: right;\">\n",
       "      <th></th>\n",
       "      <th>n</th>\n",
       "      <th>success</th>\n",
       "      <th>p_hat</th>\n",
       "      <th>mid_step</th>\n",
       "    </tr>\n",
       "  </thead>\n",
       "  <tbody>\n",
       "    <tr>\n",
       "      <th>bn</th>\n",
       "      <td>2435</td>\n",
       "      <td>157</td>\n",
       "      <td>0.064476</td>\n",
       "      <td>0.000025</td>\n",
       "    </tr>\n",
       "    <tr>\n",
       "      <th>wn</th>\n",
       "      <td>2435</td>\n",
       "      <td>235</td>\n",
       "      <td>0.096509</td>\n",
       "      <td>0.000036</td>\n",
       "    </tr>\n",
       "    <tr>\n",
       "      <th>total</th>\n",
       "      <td>4870</td>\n",
       "      <td>392</td>\n",
       "      <td>0.080493</td>\n",
       "      <td>0.000015</td>\n",
       "    </tr>\n",
       "  </tbody>\n",
       "</table>\n",
       "</div>"
      ],
      "text/plain": [
       "          n  success     p_hat  mid_step\n",
       "bn     2435      157  0.064476  0.000025\n",
       "wn     2435      235  0.096509  0.000036\n",
       "total  4870      392  0.080493  0.000015"
      ]
     },
     "execution_count": 5,
     "metadata": {},
     "output_type": "execute_result"
    }
   ],
   "source": [
    "callbacks_b = sum(data[data.race == 'b'].call)\n",
    "total_people_b = len(data[data.race == 'b'].call)\n",
    "\n",
    "callbacks_w = sum(data[data.race == 'w'].call)\n",
    "total_people_w = len(data[data.race == 'w'].call)\n",
    "\n",
    "proportions = {'bn': {\n",
    "                        'success':callbacks_b,\n",
    "                        'n':total_people_b\n",
    "                        },\n",
    "              'wn':{\n",
    "                        'success':callbacks_w,\n",
    "                        'n':total_people_w}\n",
    "              }\n",
    "\n",
    "df = pd.DataFrame(proportions)\n",
    "df['total'] = df.bn + df.wn\n",
    "\n",
    "prop = df.T\n",
    "prop['p_hat'] = prop.success.astype(float)/prop.n.astype(float)\n",
    "\n",
    "#it would be easier to calculate here the values under the square root\n",
    "prop['mid_step'] = (prop.p_hat * (1 - prop.p_hat) / prop.n)\n",
    "prop"
   ]
  },
  {
   "cell_type": "markdown",
   "metadata": {},
   "source": [
    "# Checking conditions"
   ]
  },
  {
   "cell_type": "markdown",
   "metadata": {},
   "source": [
    "We'll continue estimating this by calculating the margin of error. "
   ]
  },
  {
   "cell_type": "markdown",
   "metadata": {},
   "source": [
    "1. **Independece**\n",
    "    * there is no reason to believe the people can be related in any way, so independence is assured.\n",
    "    * since both groups have 2435 people which definitely represent less then 10% of the population of people applying for jobs, this condition is also met\n",
    "    \n",
    "    \n",
    "2. **Sample size/Skew**\n",
    "    * n1p1 >= 10 and n1(1-p1) >= 10\n",
    "    * n2p2 >= 10 and n2(1-p2) >= 10"
   ]
  },
  {
   "cell_type": "code",
   "execution_count": 6,
   "metadata": {
    "collapsed": false
   },
   "outputs": [
    {
     "name": "stdout",
     "output_type": "stream",
     "text": [
      "Condition is met for wn, we have 235.0 successes and 2200.0 failures\n",
      "Condition is met for bn, we have 157.0 successes and 2278.0 failures\n"
     ]
    }
   ],
   "source": [
    "race = ['bn','wn']\n",
    "success_fail = {val: {\n",
    "        'success': prop.p_hat[val] * prop.n[val], \n",
    "        'failure':((1-prop.p_hat[val]) * prop.n[val])\n",
    "    } for val in race}\n",
    "\n",
    "for race, values in success_fail.iteritems():\n",
    "    if values['success'] >= 10 and values['failure'] >= 10:\n",
    "        print \"Condition is met for \" + race + \", we have {0} successes and {1} failures\".format(values['success'], values['failure'])\n",
    "        "
   ]
  },
  {
   "cell_type": "markdown",
   "metadata": {},
   "source": [
    "## Since we're already down this road, we might as well tackle the question of margin of error and confidence interval"
   ]
  },
  {
   "cell_type": "code",
   "execution_count": 7,
   "metadata": {
    "collapsed": false
   },
   "outputs": [
    {
     "name": "stdout",
     "output_type": "stream",
     "text": [
      "CI for 68.0% is (0.024292619971581962, 0.039773088447309209)\n",
      "CI for 95.0% is (0.016777728181230755, 0.047287980237660412)\n",
      "CI for 99.7% is (0.0089338501323753469, 0.055131858286515824)\n"
     ]
    }
   ],
   "source": [
    "point_estimate = prop.p_hat['wn'] - prop.p_hat['bn']\n",
    "standard_error = (prop.mid_step['bn'] + prop.mid_step['wn']) ** 0.5\n",
    "a1 = 0.68\n",
    "a2 = 0.95\n",
    "a3 = 0.997\n",
    "\n",
    "z1 = stats.norm.ppf(1 - ((1-a1)/2))\n",
    "z2 = stats.norm.ppf(1 - ((1-a2)/2))\n",
    "z3 = stats.norm.ppf(1 - ((1-a3)/2))\n",
    "\n",
    "z_vals = {a1:z1, a2:z2,a3:z3}\n",
    "\n",
    "ME = {level:z_score*standard_error for level, z_score in z_vals.iteritems()}\n",
    "ME[0.95]\n",
    "\n",
    "CI = {level:(point_estimate - me_level, point_estimate + me_level) for level, me_level in ME.iteritems()}\n",
    "for level, ci in CI.iteritems():\n",
    "    print \"CI for {0}% is {1}\".format(level*100, ci)"
   ]
  },
  {
   "cell_type": "markdown",
   "metadata": {},
   "source": [
    "### We are 95% confident that the proportion of white sounding names which get a callback for an interview is *1.68 to 4.73 higher* than the proportion of black sounding names which get callbacks for interviews. "
   ]
  },
  {
   "cell_type": "markdown",
   "metadata": {
    "collapsed": true
   },
   "source": [
    "## Now about that hypothesis test."
   ]
  },
  {
   "cell_type": "markdown",
   "metadata": {},
   "source": [
    "H0: p_white - p_black = 0 #stating that there is no difference between black sounding names and white sounding names\n",
    "\n",
    "HA: p_white - p_black != 0 #stating that there is a difference between black sounding names and white sounding names"
   ]
  },
  {
   "cell_type": "markdown",
   "metadata": {},
   "source": [
    "We will need to calculate a pooled proportion in order to continue this exercise"
   ]
  },
  {
   "cell_type": "code",
   "execution_count": 8,
   "metadata": {
    "collapsed": false
   },
   "outputs": [
    {
     "data": {
      "text/plain": [
       "0.080492813141683772"
      ]
     },
     "execution_count": 8,
     "metadata": {},
     "output_type": "execute_result"
    }
   ],
   "source": [
    "p_pool = (prop.success['bn'] + prop.success['wn']) / (prop.n['bn'] + prop.n['wn'])\n",
    "p_pool"
   ]
  },
  {
   "cell_type": "markdown",
   "metadata": {},
   "source": [
    "Because we don't have a population proportion which we can use in this situation, we will use a pooled proportion in order to check whether the conditions for a hypothesis test are met.\n",
    "\n",
    "1. **Independece**: has been proved above.\n",
    "2. **Success - Failure Condition:**"
   ]
  },
  {
   "cell_type": "code",
   "execution_count": 9,
   "metadata": {
    "collapsed": false
   },
   "outputs": [
    {
     "name": "stdout",
     "output_type": "stream",
     "text": [
      "Condition is met for wn, we have 235.0 successes and 2200.0 failures\n",
      "Condition is met for bn, we have 157.0 successes and 2278.0 failures\n"
     ]
    }
   ],
   "source": [
    "race = ['bn','wn']\n",
    "success_fail = {val: {\n",
    "        'success': prop.p_hat[val] * prop.n[val], \n",
    "        'failure':((1-prop.p_hat[val]) * prop.n[val])\n",
    "    } for val in race}\n",
    "\n",
    "for race, values in success_fail.iteritems():\n",
    "    if values['success'] >= 10 and values['failure'] >= 10:\n",
    "        print \"Condition is met for \" + race + \", we have {0} successes and {1} failures\".format(values['success'], values['failure'])\n",
    "        "
   ]
  },
  {
   "cell_type": "markdown",
   "metadata": {},
   "source": [
    "Now that we have checked for these conditions, we can continue on calculating the **p-value**"
   ]
  },
  {
   "cell_type": "code",
   "execution_count": 10,
   "metadata": {
    "collapsed": false
   },
   "outputs": [
    {
     "data": {
      "text/plain": [
       "4.1084121524343464"
      ]
     },
     "execution_count": 10,
     "metadata": {},
     "output_type": "execute_result"
    }
   ],
   "source": [
    "p_pool_bn = p_pool * (1-p_pool) / prop.n['bn'] \n",
    "p_pool_wn = p_pool * (1-p_pool) / prop.n['wn'] \n",
    "standard_error = np.sqrt(p_pool_bn + p_pool_wn)\n",
    "\n",
    "z_score = (point_estimate - 0)/standard_error\n",
    "z_score"
   ]
  },
  {
   "cell_type": "markdown",
   "metadata": {},
   "source": [
    "Given that we have such a high z-score, we can tell that the p-value will be very close to 0."
   ]
  },
  {
   "cell_type": "code",
   "execution_count": 11,
   "metadata": {
    "collapsed": false
   },
   "outputs": [
    {
     "data": {
      "text/plain": [
       "3.9838868375774439e-05"
      ]
     },
     "execution_count": 11,
     "metadata": {},
     "output_type": "execute_result"
    }
   ],
   "source": [
    "p = (1-stats.norm.cdf(np.abs(z_score)))*2\n",
    "p"
   ]
  },
  {
   "cell_type": "markdown",
   "metadata": {},
   "source": [
    "## Discuss statistical significance"
   ]
  },
  {
   "cell_type": "markdown",
   "metadata": {},
   "source": [
    "##### Because the p-value is very low compared with the alpha = 0.05 threshold we established, we will reject the null hypothesis, and accept the alternative hypothesis which states that there is a statistically significant difference between the callbacks received by white sounding names and black sounding names. "
   ]
  },
  {
   "cell_type": "code",
   "execution_count": null,
   "metadata": {
    "collapsed": true
   },
   "outputs": [],
   "source": []
  }
 ],
 "metadata": {
  "kernelspec": {
   "display_name": "Python 2",
   "language": "python",
   "name": "python2"
  },
  "language_info": {
   "codemirror_mode": {
    "name": "ipython",
    "version": 2
   },
   "file_extension": ".py",
   "mimetype": "text/x-python",
   "name": "python",
   "nbconvert_exporter": "python",
   "pygments_lexer": "ipython2",
   "version": "2.7.11"
  }
 },
 "nbformat": 4,
 "nbformat_minor": 0
}
