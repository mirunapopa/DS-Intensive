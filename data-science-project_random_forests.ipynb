{
 "cells": [
  {
   "cell_type": "code",
   "execution_count": 1,
   "metadata": {
    "collapsed": false
   },
   "outputs": [],
   "source": [
    "import warnings\n",
    "\n",
    "\n",
    "import pandas as pd\n",
    "\n",
    "import pylab as pl\n",
    "import numpy as np\n",
    "\n",
    "import matplotlib.pyplot as plt\n",
    "from datetime import datetime\n",
    "\n",
    "from sklearn import preprocessing\n",
    "from sklearn import cross_validation\n",
    "\n",
    "%matplotlib inline\n",
    "plt.style.use('ggplot')\n",
    "warnings.filterwarnings('ignore')"
   ]
  },
  {
   "cell_type": "code",
   "execution_count": 2,
   "metadata": {
    "collapsed": false
   },
   "outputs": [],
   "source": [
    "#defining function to read data \n",
    "def read_training_data(data_files):\n",
    "    \n",
    "    age_gender = pd.read_csv(data_files['age_gender'])\n",
    "    countries = pd.read_csv(data_files['countries'])\n",
    "    sessions = pd.read_csv(data_files['sessions'])\n",
    "    train_users = pd.read_csv(data_files['users'])\n",
    "    \n",
    "    return age_gender, countries, sessions, train_users\n",
    "\n",
    "#def"
   ]
  },
  {
   "cell_type": "code",
   "execution_count": 3,
   "metadata": {
    "collapsed": false
   },
   "outputs": [],
   "source": [
    "data_files = {'age_gender':'data/age_gender_bkts.csv',\n",
    "'countries':'data/countries.csv',\n",
    "'sessions':'data/sessions.csv',\n",
    "'users':'data/train_users_2.csv'}"
   ]
  },
  {
   "cell_type": "code",
   "execution_count": 4,
   "metadata": {
    "collapsed": false
   },
   "outputs": [],
   "source": [
    "#general data wrangling\n",
    "def clean_up(dataframe):\n",
    "\n",
    "    #dealing with missing data\n",
    "    dataframe.replace(\"-unknown-\", np.nan, inplace = True)\n",
    "    new_timestamp = dataframe.timestamp_first_active.astype(str)\n",
    "    dates = pd.to_datetime(pd.Series([datetime.strptime(date, '%Y%m%d%H%M%S') for date in new_timestamp]))\n",
    "    \n",
    "    # replace age in areas where it doesn't make sense with -1\n",
    "    av = dataframe.age.values\n",
    "    dataframe['age'] = np.where(np.logical_or(av<14, av>100), -1, av)\n",
    "    \n",
    "    #replacing datetime objects which are more difficult to work with\n",
    "    dataframe['timestamp_first_active'] = dates\n",
    "    dataframe['date_account_created'] = pd.to_datetime(dataframe.date_account_created)\n",
    "    dataframe['date_first_booking'] = pd.to_datetime(dataframe.date_first_booking)\n",
    "    dataframe.rename(columns = {'id':'user_id'}, inplace = True)\n",
    "    df = dataframe.merge(sessions, on = 'user_id', how = 'left')\n",
    "    user_ids = df['user_id']\n",
    "    df_2 = df.drop('user_id', axis = 1)\n",
    "    \n",
    "    #sepparating in order to have numerical values for each\n",
    "    \n",
    "    #date_account_created\n",
    "    df_2['dac_year'] = df_2.date_account_created.dt.year\n",
    "    df_2['dac_month'] = df_2.date_account_created.dt.month\n",
    "    df_2['dac_day'] = df_2.date_account_created.dt.day\n",
    "\n",
    "    #timestamp_first_active\n",
    "    df_2['tfa_year'] = df_2.timestamp_first_active.dt.year\n",
    "    df_2['tfa_month'] = df_2.timestamp_first_active.dt.month\n",
    "    df_2['tfa_day'] = df_2.timestamp_first_active.dt.day\n",
    "\n",
    "    #dropping timestamps from model\n",
    "    df_2 = df_2.drop(['date_account_created','timestamp_first_active','date_first_booking'],axis = 1)\n",
    "    \n",
    "    \n",
    "    #condition to check if it's the training set or test set\n",
    "    if 'country_destination' in list(df_2.columns):\n",
    "\n",
    "        labels = df_2.country_destination\n",
    "        df_2 = df_2.drop('country_destination', axis = 1)\n",
    "        \n",
    "        print \"Number of rows in the training set are: %i\" % df_2.shape[0]\n",
    "        return df_2, labels, user_ids, df_2.columns\n",
    "        \n",
    "    else:\n",
    "        print \"Number of rows in the test set are: %i\" % df_2.shape[0]\n",
    "        return df_2, user_ids, df_2.columns\n",
    "    \n",
    "    #if\n",
    "\n",
    "#def\n",
    "\n",
    "def encode_df(df_in,feature_list):\n",
    "    \n",
    "    #encoding all the non-numerical variables\n",
    "    \n",
    "    le = preprocessing.LabelEncoder()\n",
    "    \n",
    "    for item in feature_list:\n",
    "        le.fit(df_in[item])\n",
    "        encoded = le.transform(df_in[item])\n",
    "        df_in[item] = encoded\n",
    "    #for\n",
    "    \n",
    "    df_in = df_in.fillna(-1)\n",
    "    \n",
    "    return df_in\n",
    "\n",
    "#def\n",
    "\n",
    "def preprocessing_df(df_in,mode,normalizers=None):\n",
    "    \n",
    "    #\n",
    "    # normalising the rest of the variables\n",
    "    #\n",
    "    \n",
    "    if mode == 'train':\n",
    "        scaler = preprocessing.MinMaxScaler().fit(df_in)\n",
    "        df_in= scaler.transform(df_in)\n",
    "        normalizers = scaler\n",
    "        return df_in, normalizers\n",
    "    elif mode == 'test':\n",
    "        df_in = normalizers.transform(df_in)\n",
    "        return df_in\n",
    "    else:\n",
    "        print 'Mode not defined {}'.format(mode)\n",
    "    #if\n",
    "    \n",
    "#def"
   ]
  },
  {
   "cell_type": "code",
   "execution_count": 5,
   "metadata": {
    "collapsed": true
   },
   "outputs": [],
   "source": [
    "feature_list = ['gender','signup_method','language','affiliate_channel',\n",
    "         'affiliate_provider','first_affiliate_tracked','affiliate_provider',\n",
    "         'first_affiliate_tracked','signup_app','first_device_type','first_browser','action',\n",
    "        'action_type','action_detail','device_type']"
   ]
  },
  {
   "cell_type": "markdown",
   "metadata": {},
   "source": [
    "### Reading all available data\n",
    "****"
   ]
  },
  {
   "cell_type": "code",
   "execution_count": 36,
   "metadata": {
    "collapsed": false
   },
   "outputs": [],
   "source": [
    "age_gender, countries, sessions, train_users = read_training_data(data_files)"
   ]
  },
  {
   "cell_type": "markdown",
   "metadata": {},
   "source": [
    "### Preprocessing train data\n",
    "****\n"
   ]
  },
  {
   "cell_type": "code",
   "execution_count": 37,
   "metadata": {
    "collapsed": false
   },
   "outputs": [
    {
     "name": "stdout",
     "output_type": "stream",
     "text": [
      "Number of rows in the training set are: 5677593\n"
     ]
    }
   ],
   "source": [
    "train_set, train_labels, train_user_id, column_names_train = clean_up(train_users)"
   ]
  },
  {
   "cell_type": "code",
   "execution_count": 38,
   "metadata": {
    "collapsed": false
   },
   "outputs": [],
   "source": [
    "train_set = encode_df(train_set, feature_list)"
   ]
  },
  {
   "cell_type": "code",
   "execution_count": 39,
   "metadata": {
    "collapsed": false
   },
   "outputs": [],
   "source": [
    "train_set, normalizers = preprocessing_df(train_set,'train',normalizers=None)"
   ]
  },
  {
   "cell_type": "code",
   "execution_count": 40,
   "metadata": {
    "collapsed": false
   },
   "outputs": [
    {
     "data": {
      "text/plain": [
       "array([[0, 0, 0, ..., 0, 0, 0],\n",
       "       [0, 0, 0, ..., 0, 0, 0],\n",
       "       [0, 0, 0, ..., 0, 1, 0],\n",
       "       ..., \n",
       "       [0, 0, 0, ..., 0, 0, 0],\n",
       "       [0, 0, 0, ..., 0, 0, 0],\n",
       "       [0, 0, 0, ..., 0, 0, 0]])"
      ]
     },
     "execution_count": 40,
     "metadata": {},
     "output_type": "execute_result"
    }
   ],
   "source": [
    "encoded_dummies = pd.get_dummies(train_labels)\n",
    "#encoded_dummies = pd.get_dummies(train_labels).as_matrix()\n",
    "from sklearn import preprocessing\n",
    "le = preprocessing.LabelBinarizer()\n",
    "train_labels_set = le.fit_transform(train_labels)\n",
    "train_labels_set\n"
   ]
  },
  {
   "cell_type": "markdown",
   "metadata": {},
   "source": [
    "# Reducing Dimensionality\n",
    "****"
   ]
  },
  {
   "cell_type": "code",
   "execution_count": 11,
   "metadata": {
    "collapsed": false
   },
   "outputs": [
    {
     "name": "stdout",
     "output_type": "stream",
     "text": [
      "Extracting the top 15 features from 5677593 rows\n",
      "done in 24.634s\n",
      "Projecting the input data on the eigenvalues orthonormal basis\n",
      "done in 1.437s\n"
     ]
    }
   ],
   "source": [
    "#since it would be hard to match the features names in the feature importance phaze, we'll be skipping this part for now\n",
    "\n",
    "# from time import time\n",
    "# from sklearn.decomposition import RandomizedPCA\n",
    "# n_components = 15\n",
    "\n",
    "# print \"Extracting the top %d features from %d rows\" % (n_components, train_set.shape[0])\n",
    "# t0 = time()\n",
    "# pca = RandomizedPCA(n_components=n_components, whiten=True).fit(train_set)\n",
    "# print \"done in %0.3fs\" % (time() - t0)\n",
    "\n",
    "# #eigenvalues = pca.components_.reshape((n_components, X_train.shape[0],  X_train.shape[1]))\n",
    "\n",
    "# print \"Projecting the input data on the eigenvalues orthonormal basis\"\n",
    "# t0 = time()\n",
    "# X_train_pca = pca.transform(train_set)\n",
    "# #X_test_pca = pca.transform(test_set)\n",
    "# print \"done in %0.3fs\" % (time() - t0)\n",
    "\n"
   ]
  },
  {
   "cell_type": "markdown",
   "metadata": {},
   "source": [
    "### Splitting Training Data - train and CV\n",
    "****"
   ]
  },
  {
   "cell_type": "code",
   "execution_count": 43,
   "metadata": {
    "collapsed": true
   },
   "outputs": [],
   "source": [
    "X_train, X_test, y_train, y_test = cross_validation.train_test_split(X_train_pca, train_labels_set, test_size=0.3, random_state=0)"
   ]
  },
  {
   "cell_type": "code",
   "execution_count": 44,
   "metadata": {
    "collapsed": false
   },
   "outputs": [
    {
     "name": "stdout",
     "output_type": "stream",
     "text": [
      "training: 3974315 rows\n",
      "test: 1703278 rows\n"
     ]
    }
   ],
   "source": [
    "print \"training: %i rows\" % (X_train.shape[0])\n",
    "print \"test: %i rows\" % (X_test.shape[0])"
   ]
  },
  {
   "cell_type": "markdown",
   "metadata": {},
   "source": [
    "### Training phase\n",
    "****"
   ]
  },
  {
   "cell_type": "code",
   "execution_count": 45,
   "metadata": {
    "collapsed": true
   },
   "outputs": [],
   "source": [
    "#using OnevsRest for Multiclass problem, RandomForest as the estimator\n",
    "from sklearn.multiclass import OneVsRestClassifier\n",
    "from sklearn.ensemble import RandomForestClassifier"
   ]
  },
  {
   "cell_type": "code",
   "execution_count": 46,
   "metadata": {
    "collapsed": false
   },
   "outputs": [],
   "source": [
    "clf = OneVsRestClassifier(RandomForestClassifier(random_state=0, n_jobs = -1))"
   ]
  },
  {
   "cell_type": "code",
   "execution_count": 47,
   "metadata": {
    "collapsed": false
   },
   "outputs": [
    {
     "name": "stdout",
     "output_type": "stream",
     "text": [
      "done in 3630.393s\n"
     ]
    }
   ],
   "source": [
    "t0 = time()\n",
    "clf.fit(X_train, y_train)\n",
    "print \"done in %0.3fs\" % (time() - t0)"
   ]
  },
  {
   "cell_type": "code",
   "execution_count": 48,
   "metadata": {
    "collapsed": false
   },
   "outputs": [],
   "source": [
    "y_pred = clf.predict(X_test)"
   ]
  },
  {
   "cell_type": "code",
   "execution_count": 49,
   "metadata": {
    "collapsed": false
   },
   "outputs": [
    {
     "data": {
      "text/plain": [
       "0.89811234572395116"
      ]
     },
     "execution_count": 49,
     "metadata": {},
     "output_type": "execute_result"
    }
   ],
   "source": [
    "clf.score(X_test, y_test)"
   ]
  },
  {
   "cell_type": "code",
   "execution_count": 50,
   "metadata": {
    "collapsed": false
   },
   "outputs": [
    {
     "name": "stdout",
     "output_type": "stream",
     "text": [
      "Feature ranking:\n",
      "1. feature 2 (0.127736)\n",
      "2. feature 4 (0.098877)\n",
      "3. feature 13 (0.094824)\n",
      "4. feature 7 (0.076485)\n",
      "5. feature 11 (0.069332)\n",
      "6. feature 8 (0.062991)\n",
      "7. feature 5 (0.062891)\n",
      "8. feature 12 (0.058991)\n",
      "9. feature 9 (0.057875)\n",
      "10. feature 3 (0.056259)\n",
      "11. feature 6 (0.052182)\n",
      "12. feature 14 (0.048087)\n",
      "13. feature 0 (0.045599)\n",
      "14. feature 1 (0.045382)\n",
      "15. feature 10 (0.042489)\n"
     ]
    },
    {
     "data": {
      "image/png": "[encoded data removed]",
      "text/plain": [
       "<matplotlib.figure.Figure at 0x121e60790>"
      ]
     },
     "metadata": {},
     "output_type": "display_data"
    },
    {
     "name": "stdout",
     "output_type": "stream",
     "text": [
      "Feature ranking:\n",
      "1. feature 2 (0.107289)\n",
      "2. feature 4 (0.093767)\n",
      "3. feature 13 (0.092703)\n",
      "4. feature 7 (0.081885)\n",
      "5. feature 11 (0.069523)\n",
      "6. feature 5 (0.067794)\n",
      "7. feature 12 (0.062252)\n",
      "8. feature 9 (0.062038)\n",
      "9. feature 8 (0.061919)\n",
      "10. feature 3 (0.060660)\n",
      "11. feature 14 (0.058348)\n",
      "12. feature 1 (0.049374)\n",
      "13. feature 0 (0.047801)\n",
      "14. feature 6 (0.043785)\n",
      "15. feature 10 (0.040864)\n"
     ]
    },
    {
     "data": {
      "image/png": "[encoded data removed]",
      "text/plain": [
       "<matplotlib.figure.Figure at 0x118b5aed0>"
      ]
     },
     "metadata": {},
     "output_type": "display_data"
    },
    {
     "name": "stdout",
     "output_type": "stream",
     "text": [
      "Feature ranking:\n",
      "1. feature 2 (0.109654)\n",
      "2. feature 4 (0.090486)\n",
      "3. feature 7 (0.089837)\n",
      "4. feature 13 (0.082874)\n",
      "5. feature 5 (0.074306)\n",
      "6. feature 9 (0.069959)\n",
      "7. feature 11 (0.066659)\n",
      "8. feature 8 (0.065683)\n",
      "9. feature 12 (0.058269)\n",
      "10. feature 3 (0.057625)\n",
      "11. feature 1 (0.052744)\n",
      "12. feature 14 (0.048305)\n",
      "13. feature 0 (0.048000)\n",
      "14. feature 6 (0.046085)\n",
      "15. feature 10 (0.039515)\n"
     ]
    },
    {
     "data": {
      "image/png": "[encoded data removed]",
      "text/plain": [
       "<matplotlib.figure.Figure at 0x173ee9590>"
      ]
     },
     "metadata": {},
     "output_type": "display_data"
    },
    {
     "name": "stdout",
     "output_type": "stream",
     "text": [
      "Feature ranking:\n",
      "1. feature 2 (0.110902)\n",
      "2. feature 4 (0.088988)\n",
      "3. feature 7 (0.085677)\n",
      "4. feature 13 (0.081261)\n",
      "5. feature 5 (0.067800)\n",
      "6. feature 8 (0.066178)\n",
      "7. feature 11 (0.063827)\n",
      "8. feature 9 (0.063711)\n",
      "9. feature 12 (0.060126)\n",
      "10. feature 3 (0.059709)\n",
      "11. feature 14 (0.053141)\n",
      "12. feature 1 (0.052807)\n",
      "13. feature 0 (0.049580)\n",
      "14. feature 6 (0.049164)\n",
      "15. feature 10 (0.047129)\n"
     ]
    },
    {
     "data": {
      "image/png": "[encoded data removed]",
      "text/plain": [
       "<matplotlib.figure.Figure at 0x1179dddd0>"
      ]
     },
     "metadata": {},
     "output_type": "display_data"
    },
    {
     "name": "stdout",
     "output_type": "stream",
     "text": [
      "Feature ranking:\n",
      "1. feature 2 (0.115372)\n",
      "2. feature 4 (0.087386)\n",
      "3. feature 13 (0.086993)\n",
      "4. feature 7 (0.084467)\n",
      "5. feature 5 (0.068668)\n",
      "6. feature 8 (0.067793)\n",
      "7. feature 9 (0.063955)\n",
      "8. feature 11 (0.062710)\n",
      "9. feature 3 (0.059598)\n",
      "10. feature 12 (0.059178)\n",
      "11. feature 14 (0.053289)\n",
      "12. feature 1 (0.051177)\n",
      "13. feature 0 (0.047596)\n",
      "14. feature 6 (0.047391)\n",
      "15. feature 10 (0.044427)\n"
     ]
    },
    {
     "data": {
      "image/png": "[encoded data removed]",
      "text/plain": [
       "<matplotlib.figure.Figure at 0x11ce13510>"
      ]
     },
     "metadata": {},
     "output_type": "display_data"
    },
    {
     "name": "stdout",
     "output_type": "stream",
     "text": [
      "Feature ranking:\n",
      "1. feature 2 (0.113759)\n",
      "2. feature 4 (0.093825)\n",
      "3. feature 13 (0.087337)\n",
      "4. feature 7 (0.083597)\n",
      "5. feature 5 (0.068737)\n",
      "6. feature 11 (0.067489)\n",
      "7. feature 8 (0.065526)\n",
      "8. feature 9 (0.061033)\n",
      "9. feature 12 (0.058875)\n",
      "10. feature 3 (0.056915)\n",
      "11. feature 14 (0.053665)\n",
      "12. feature 6 (0.049352)\n",
      "13. feature 0 (0.048745)\n",
      "14. feature 1 (0.047409)\n",
      "15. feature 10 (0.043737)\n"
     ]
    },
    {
     "data": {
      "image/png": "[encoded data removed]",
      "text/plain": [
       "<matplotlib.figure.Figure at 0x121112c10>"
      ]
     },
     "metadata": {},
     "output_type": "display_data"
    },
    {
     "name": "stdout",
     "output_type": "stream",
     "text": [
      "Feature ranking:\n",
      "1. feature 2 (0.109170)\n",
      "2. feature 4 (0.088802)\n",
      "3. feature 13 (0.083447)\n",
      "4. feature 7 (0.083117)\n",
      "5. feature 5 (0.069395)\n",
      "6. feature 11 (0.066149)\n",
      "7. feature 8 (0.064922)\n",
      "8. feature 9 (0.063801)\n",
      "9. feature 3 (0.063378)\n",
      "10. feature 12 (0.062422)\n",
      "11. feature 14 (0.055414)\n",
      "12. feature 1 (0.051565)\n",
      "13. feature 0 (0.048388)\n",
      "14. feature 6 (0.047199)\n",
      "15. feature 10 (0.042831)\n"
     ]
    },
    {
     "data": {
      "image/png": "[encoded data removed]",
      "text/plain": [
       "<matplotlib.figure.Figure at 0x10810e1d0>"
      ]
     },
     "metadata": {},
     "output_type": "display_data"
    },
    {
     "name": "stdout",
     "output_type": "stream",
     "text": [
      "Feature ranking:\n",
      "1. feature 4 (0.143367)\n",
      "2. feature 11 (0.103789)\n",
      "3. feature 13 (0.094278)\n",
      "4. feature 2 (0.080330)\n",
      "5. feature 7 (0.064020)\n",
      "6. feature 5 (0.059857)\n",
      "7. feature 8 (0.055858)\n",
      "8. feature 3 (0.055640)\n",
      "9. feature 9 (0.054977)\n",
      "10. feature 12 (0.053061)\n",
      "11. feature 14 (0.051645)\n",
      "12. feature 0 (0.050130)\n",
      "13. feature 1 (0.048429)\n",
      "14. feature 6 (0.044782)\n",
      "15. feature 10 (0.039837)\n"
     ]
    },
    {
     "data": {
      "image/png": "[encoded data removed]",
      "text/plain": [
       "<matplotlib.figure.Figure at 0x116c8d190>"
      ]
     },
     "metadata": {},
     "output_type": "display_data"
    },
    {
     "name": "stdout",
     "output_type": "stream",
     "text": [
      "Feature ranking:\n",
      "1. feature 2 (0.108068)\n",
      "2. feature 4 (0.090986)\n",
      "3. feature 13 (0.085802)\n",
      "4. feature 7 (0.082077)\n",
      "5. feature 11 (0.076961)\n",
      "6. feature 5 (0.071236)\n",
      "7. feature 8 (0.064227)\n",
      "8. feature 12 (0.062371)\n",
      "9. feature 9 (0.060856)\n",
      "10. feature 3 (0.053710)\n",
      "11. feature 14 (0.052997)\n",
      "12. feature 1 (0.051965)\n",
      "13. feature 0 (0.048793)\n",
      "14. feature 6 (0.045037)\n",
      "15. feature 10 (0.044913)\n"
     ]
    },
    {
     "data": {
      "image/png": "[encoded data removed]",
      "text/plain": [
       "<matplotlib.figure.Figure at 0x120e8bfd0>"
      ]
     },
     "metadata": {},
     "output_type": "display_data"
    },
    {
     "name": "stdout",
     "output_type": "stream",
     "text": [
      "Feature ranking:\n",
      "1. feature 2 (0.107792)\n",
      "2. feature 4 (0.094166)\n",
      "3. feature 13 (0.079915)\n",
      "4. feature 11 (0.068898)\n",
      "5. feature 9 (0.068772)\n",
      "6. feature 7 (0.063656)\n",
      "7. feature 5 (0.062196)\n",
      "8. feature 8 (0.061996)\n",
      "9. feature 3 (0.061981)\n",
      "10. feature 12 (0.060489)\n",
      "11. feature 6 (0.059614)\n",
      "12. feature 14 (0.054427)\n",
      "13. feature 0 (0.053913)\n",
      "14. feature 10 (0.051328)\n",
      "15. feature 1 (0.050856)\n"
     ]
    },
    {
     "data": {
      "image/png": "[encoded data removed]",
      "text/plain": [
       "<matplotlib.figure.Figure at 0x10812d6d0>"
      ]
     },
     "metadata": {},
     "output_type": "display_data"
    },
    {
     "name": "stdout",
     "output_type": "stream",
     "text": [
      "Feature ranking:\n",
      "1. feature 4 (0.132414)\n",
      "2. feature 13 (0.091143)\n",
      "3. feature 2 (0.091105)\n",
      "4. feature 11 (0.083131)\n",
      "5. feature 7 (0.070311)\n",
      "6. feature 5 (0.062008)\n",
      "7. feature 8 (0.058974)\n",
      "8. feature 9 (0.058032)\n",
      "9. feature 3 (0.057745)\n",
      "10. feature 12 (0.057307)\n",
      "11. feature 14 (0.054157)\n",
      "12. feature 1 (0.048567)\n",
      "13. feature 0 (0.048276)\n",
      "14. feature 6 (0.045917)\n",
      "15. feature 10 (0.040911)\n"
     ]
    },
    {
     "data": {
      "image/png": "[encoded data removed]",
      "text/plain": [
       "<matplotlib.figure.Figure at 0x120e92090>"
      ]
     },
     "metadata": {},
     "output_type": "display_data"
    }
   ],
   "source": [
    "#plotting importances at each class\n",
    "import numpy as np\n",
    "import matplotlib.pyplot as plt\n",
    "%matplotlib inline\n",
    "y = {}\n",
    "for i in range(0,len(clf.estimators_)-1):\n",
    "    importances = clf.estimators_[i].feature_importances_\n",
    "    std = np.std([tree.feature_importances_ for tree in clf.estimators_],\n",
    "                 axis=0)\n",
    "    indices = np.argsort(importances)[::-1]\n",
    "\n",
    "    # Print the feature ranking\n",
    "    print(\"Feature ranking:\")\n",
    "    x = {}\n",
    "    for f in range(X_train.shape[1]):\n",
    "        print(\"%d. feature %d (%f)\" % (f + 1, indices[f], importances[indices[f]]))\n",
    "        x[f+1] = indices[f]\n",
    "\n",
    "    # Plot the feature importances of the forest\n",
    "    plt.figure()\n",
    "    y[i] = x\n",
    "    plt.title(\"Feature importances\")\n",
    "    plt.bar(range(X_train.shape[1]), importances[indices],\n",
    "           color=\"r\", yerr=std[indices], align=\"center\")\n",
    "    plt.xticks(range(X_train.shape[1]), indices)\n",
    "    plt.xlim([-1, X_train.shape[1]])\n",
    "    plt.show()"
   ]
  },
  {
   "cell_type": "code",
   "execution_count": 52,
   "metadata": {
    "collapsed": false
   },
   "outputs": [
    {
     "data": {
      "text/plain": [
       "('signup_method', 'language', 'action_detail', 'first_affiliate_tracked')"
      ]
     },
     "execution_count": 52,
     "metadata": {},
     "output_type": "execute_result"
    }
   ],
   "source": [
    "#printing the features which seem to appear most often\n",
    "column_names_train[2],column_names_train[4],column_names_train[13],column_names_train[7], "
   ]
  },
  {
   "cell_type": "code",
   "execution_count": 51,
   "metadata": {
    "collapsed": false
   },
   "outputs": [
    {
     "name": "stdout",
     "output_type": "stream",
     "text": [
      "F1 score: 0.919089\n",
      "Accuracy Score: 0.898112\n"
     ]
    }
   ],
   "source": [
    "from sklearn import metrics\n",
    "\n",
    "print \"F1 score: %f\" % metrics.f1_score(y_test, y_pred)\n",
    "print \"Accuracy Score: %f\" % metrics.accuracy_score(y_test, y_pred)"
   ]
  },
  {
   "cell_type": "markdown",
   "metadata": {},
   "source": [
    "# Fitting the entire train set, predicting on test set\n",
    "****"
   ]
  },
  {
   "cell_type": "code",
   "execution_count": null,
   "metadata": {
    "collapsed": true
   },
   "outputs": [],
   "source": []
  },
  {
   "cell_type": "markdown",
   "metadata": {},
   "source": [
    "### Reading Test Data\n",
    "****"
   ]
  },
  {
   "cell_type": "code",
   "execution_count": 28,
   "metadata": {
    "collapsed": false
   },
   "outputs": [
    {
     "name": "stdout",
     "output_type": "stream",
     "text": [
      "Number of rows in the test set are: 4995712\n"
     ]
    }
   ],
   "source": [
    "test_users = pd.read_csv('data/test_users.csv')\n",
    "test_set, test_user_id, column_names_test = clean_up(test_users)\n"
   ]
  },
  {
   "cell_type": "code",
   "execution_count": 29,
   "metadata": {
    "collapsed": false
   },
   "outputs": [
    {
     "data": {
      "text/plain": [
       "4995712"
      ]
     },
     "execution_count": 29,
     "metadata": {},
     "output_type": "execute_result"
    }
   ],
   "source": [
    "test_set = encode_df(test_set, feature_list)\n",
    "test_set = preprocessing_df(test_set, 'test', normalizers = normalizers)\n",
    "test_set.shape[0]"
   ]
  },
  {
   "cell_type": "code",
   "execution_count": 30,
   "metadata": {
    "collapsed": true
   },
   "outputs": [],
   "source": [
    "X_test_pca = pca.transform(test_set)"
   ]
  },
  {
   "cell_type": "code",
   "execution_count": 31,
   "metadata": {
    "collapsed": false
   },
   "outputs": [
    {
     "name": "stdout",
     "output_type": "stream",
     "text": [
      "done in 0.178s\n",
      "done in 2707.026s\n",
      "done in 84.646s\n"
     ]
    }
   ],
   "source": [
    "#training on the entire train set\n",
    "t0 = time()\n",
    "clf = OneVsRestClassifier(RandomForestClassifier(bootstrap = True, random_state=0, n_jobs = -1))\n",
    "print \"done in %0.3fs\" % (time() - t0)\n",
    "\n",
    "t0= time()\n",
    "clf.fit(X_train_pca, train_labels_set)\n",
    "print \"done in %0.3fs\" % (time() - t0)\n",
    "\n",
    "t0 = time()\n",
    "#predict probabilities of each country\n",
    "y_pred = clf.predict_proba(X_test_pca)\n",
    "print \"done in %0.3fs\" % (time() - t0)"
   ]
  },
  {
   "cell_type": "markdown",
   "metadata": {},
   "source": [
    "### Submission format\n",
    "****"
   ]
  },
  {
   "cell_type": "code",
   "execution_count": 32,
   "metadata": {
    "collapsed": false
   },
   "outputs": [
    {
     "data": {
      "text/html": [
       "<div>\n",
       "<table border=\"1\" class=\"dataframe\">\n",
       "  <thead>\n",
       "    <tr style=\"text-align: right;\">\n",
       "      <th></th>\n",
       "      <th>user_id</th>\n",
       "      <th>AU</th>\n",
       "      <th>CA</th>\n",
       "      <th>DE</th>\n",
       "      <th>ES</th>\n",
       "      <th>FR</th>\n",
       "      <th>GB</th>\n",
       "      <th>IT</th>\n",
       "      <th>NDF</th>\n",
       "      <th>NL</th>\n",
       "      <th>PT</th>\n",
       "      <th>US</th>\n",
       "      <th>other</th>\n",
       "    </tr>\n",
       "  </thead>\n",
       "  <tbody>\n",
       "    <tr>\n",
       "      <th>0</th>\n",
       "      <td>0010k6l0om</td>\n",
       "      <td>0.000000</td>\n",
       "      <td>0.015873</td>\n",
       "      <td>0.000000</td>\n",
       "      <td>0.014286</td>\n",
       "      <td>0.023810</td>\n",
       "      <td>0.003175</td>\n",
       "      <td>0.096825</td>\n",
       "      <td>0.753968</td>\n",
       "      <td>0.000000</td>\n",
       "      <td>0.0000</td>\n",
       "      <td>0.407937</td>\n",
       "      <td>0.190476</td>\n",
       "    </tr>\n",
       "    <tr>\n",
       "      <th>1</th>\n",
       "      <td>0031awlkjq</td>\n",
       "      <td>0.000000</td>\n",
       "      <td>0.125000</td>\n",
       "      <td>0.025000</td>\n",
       "      <td>0.187500</td>\n",
       "      <td>0.075000</td>\n",
       "      <td>0.075000</td>\n",
       "      <td>0.025000</td>\n",
       "      <td>0.487500</td>\n",
       "      <td>0.025000</td>\n",
       "      <td>0.0625</td>\n",
       "      <td>0.375000</td>\n",
       "      <td>0.225000</td>\n",
       "    </tr>\n",
       "    <tr>\n",
       "      <th>2</th>\n",
       "      <td>00378ocvlh</td>\n",
       "      <td>0.000000</td>\n",
       "      <td>0.039556</td>\n",
       "      <td>0.000000</td>\n",
       "      <td>0.026667</td>\n",
       "      <td>0.108000</td>\n",
       "      <td>0.010667</td>\n",
       "      <td>0.002667</td>\n",
       "      <td>0.473333</td>\n",
       "      <td>0.000000</td>\n",
       "      <td>0.0000</td>\n",
       "      <td>0.423111</td>\n",
       "      <td>0.092000</td>\n",
       "    </tr>\n",
       "    <tr>\n",
       "      <th>3</th>\n",
       "      <td>0048rkdgb1</td>\n",
       "      <td>0.038501</td>\n",
       "      <td>0.100000</td>\n",
       "      <td>0.023913</td>\n",
       "      <td>0.141449</td>\n",
       "      <td>0.089130</td>\n",
       "      <td>0.058696</td>\n",
       "      <td>0.080435</td>\n",
       "      <td>0.542391</td>\n",
       "      <td>0.028261</td>\n",
       "      <td>0.0000</td>\n",
       "      <td>0.377852</td>\n",
       "      <td>0.247826</td>\n",
       "    </tr>\n",
       "    <tr>\n",
       "      <th>4</th>\n",
       "      <td>0057snrdpu</td>\n",
       "      <td>0.014286</td>\n",
       "      <td>0.035714</td>\n",
       "      <td>0.003571</td>\n",
       "      <td>0.121429</td>\n",
       "      <td>0.078571</td>\n",
       "      <td>0.121429</td>\n",
       "      <td>0.111508</td>\n",
       "      <td>0.557143</td>\n",
       "      <td>0.010714</td>\n",
       "      <td>0.0000</td>\n",
       "      <td>0.439286</td>\n",
       "      <td>0.096429</td>\n",
       "    </tr>\n",
       "  </tbody>\n",
       "</table>\n",
       "</div>"
      ],
      "text/plain": [
       "      user_id        AU        CA        DE        ES        FR        GB  \\\n",
       "0  0010k6l0om  0.000000  0.015873  0.000000  0.014286  0.023810  0.003175   \n",
       "1  0031awlkjq  0.000000  0.125000  0.025000  0.187500  0.075000  0.075000   \n",
       "2  00378ocvlh  0.000000  0.039556  0.000000  0.026667  0.108000  0.010667   \n",
       "3  0048rkdgb1  0.038501  0.100000  0.023913  0.141449  0.089130  0.058696   \n",
       "4  0057snrdpu  0.014286  0.035714  0.003571  0.121429  0.078571  0.121429   \n",
       "\n",
       "         IT       NDF        NL      PT        US     other  \n",
       "0  0.096825  0.753968  0.000000  0.0000  0.407937  0.190476  \n",
       "1  0.025000  0.487500  0.025000  0.0625  0.375000  0.225000  \n",
       "2  0.002667  0.473333  0.000000  0.0000  0.423111  0.092000  \n",
       "3  0.080435  0.542391  0.028261  0.0000  0.377852  0.247826  \n",
       "4  0.111508  0.557143  0.010714  0.0000  0.439286  0.096429  "
      ]
     },
     "execution_count": 32,
     "metadata": {},
     "output_type": "execute_result"
    }
   ],
   "source": [
    "#since the predictions need to be on a user level, we need to average out the probabilities\n",
    "last_df = pd.concat([test_user_id,pd.DataFrame(y_pred, columns = encoded_dummies.columns)], axis = 1)\n",
    "last_df = last_df.groupby('user_id').mean().reset_index()\n",
    "\n",
    "last_df.head()\n"
   ]
  },
  {
   "cell_type": "code",
   "execution_count": 33,
   "metadata": {
    "collapsed": false
   },
   "outputs": [],
   "source": [
    "import operator\n",
    "\n",
    "ids = []\n",
    "result = {}\n",
    "for index, row in last_df.iterrows():\n",
    "    country_values = row[1:].to_dict()\n",
    "    sorted_vals = sorted(country_values.items(), key=operator.itemgetter(1), reverse = True)[:5]\n",
    "    result[row[0]]= sorted_vals"
   ]
  },
  {
   "cell_type": "code",
   "execution_count": 34,
   "metadata": {
    "collapsed": false
   },
   "outputs": [
    {
     "data": {
      "text/html": [
       "<div>\n",
       "<table border=\"1\" class=\"dataframe\">\n",
       "  <thead>\n",
       "    <tr style=\"text-align: right;\">\n",
       "      <th></th>\n",
       "      <th>0</th>\n",
       "      <th>1</th>\n",
       "      <th>2</th>\n",
       "      <th>3</th>\n",
       "      <th>4</th>\n",
       "    </tr>\n",
       "  </thead>\n",
       "  <tbody>\n",
       "    <tr>\n",
       "      <th>0010k6l0om</th>\n",
       "      <td>(NDF, 0.753968253968)</td>\n",
       "      <td>(US, 0.407936507937)</td>\n",
       "      <td>(other, 0.190476190476)</td>\n",
       "      <td>(IT, 0.0968253968254)</td>\n",
       "      <td>(FR, 0.0238095238095)</td>\n",
       "    </tr>\n",
       "    <tr>\n",
       "      <th>0031awlkjq</th>\n",
       "      <td>(NDF, 0.4875)</td>\n",
       "      <td>(US, 0.375)</td>\n",
       "      <td>(other, 0.225)</td>\n",
       "      <td>(ES, 0.1875)</td>\n",
       "      <td>(CA, 0.125)</td>\n",
       "    </tr>\n",
       "    <tr>\n",
       "      <th>00378ocvlh</th>\n",
       "      <td>(NDF, 0.473333333333)</td>\n",
       "      <td>(US, 0.423111111111)</td>\n",
       "      <td>(FR, 0.108)</td>\n",
       "      <td>(other, 0.092)</td>\n",
       "      <td>(CA, 0.0395555555556)</td>\n",
       "    </tr>\n",
       "    <tr>\n",
       "      <th>0048rkdgb1</th>\n",
       "      <td>(NDF, 0.542391304348)</td>\n",
       "      <td>(US, 0.377852437418)</td>\n",
       "      <td>(other, 0.247826086957)</td>\n",
       "      <td>(ES, 0.141449275362)</td>\n",
       "      <td>(CA, 0.1)</td>\n",
       "    </tr>\n",
       "    <tr>\n",
       "      <th>0057snrdpu</th>\n",
       "      <td>(NDF, 0.557142857143)</td>\n",
       "      <td>(US, 0.439285714286)</td>\n",
       "      <td>(GB, 0.121428571429)</td>\n",
       "      <td>(ES, 0.121428571429)</td>\n",
       "      <td>(IT, 0.111507936508)</td>\n",
       "    </tr>\n",
       "  </tbody>\n",
       "</table>\n",
       "</div>"
      ],
      "text/plain": [
       "                                0                     1  \\\n",
       "0010k6l0om  (NDF, 0.753968253968)  (US, 0.407936507937)   \n",
       "0031awlkjq          (NDF, 0.4875)           (US, 0.375)   \n",
       "00378ocvlh  (NDF, 0.473333333333)  (US, 0.423111111111)   \n",
       "0048rkdgb1  (NDF, 0.542391304348)  (US, 0.377852437418)   \n",
       "0057snrdpu  (NDF, 0.557142857143)  (US, 0.439285714286)   \n",
       "\n",
       "                                  2                      3  \\\n",
       "0010k6l0om  (other, 0.190476190476)  (IT, 0.0968253968254)   \n",
       "0031awlkjq           (other, 0.225)           (ES, 0.1875)   \n",
       "00378ocvlh              (FR, 0.108)         (other, 0.092)   \n",
       "0048rkdgb1  (other, 0.247826086957)   (ES, 0.141449275362)   \n",
       "0057snrdpu     (GB, 0.121428571429)   (ES, 0.121428571429)   \n",
       "\n",
       "                                4  \n",
       "0010k6l0om  (FR, 0.0238095238095)  \n",
       "0031awlkjq            (CA, 0.125)  \n",
       "00378ocvlh  (CA, 0.0395555555556)  \n",
       "0048rkdgb1              (CA, 0.1)  \n",
       "0057snrdpu   (IT, 0.111507936508)  "
      ]
     },
     "execution_count": 34,
     "metadata": {},
     "output_type": "execute_result"
    }
   ],
   "source": [
    "some_other_df = pd.DataFrame(result).T\n",
    "some_other_df.head()"
   ]
  },
  {
   "cell_type": "code",
   "execution_count": null,
   "metadata": {
    "collapsed": false
   },
   "outputs": [],
   "source": [
    "pd.DataFrame(some_other_df.unstack(0))\\\n",
    ".reset_index()\\\n",
    ".sort_values(['level_1','level_0'])[['level_1',0]].to_csv('submission_format.csv', index = False)"
   ]
  },
  {
   "cell_type": "markdown",
   "metadata": {
    "collapsed": true
   },
   "source": [
    "### This returns a score of 84.86% accuracy after submitting on Kaggle."
   ]
  },
  {
   "cell_type": "code",
   "execution_count": null,
   "metadata": {
    "collapsed": true
   },
   "outputs": [],
   "source": []
  }
 ],
 "metadata": {
  "kernelspec": {
   "display_name": "Python 2",
   "language": "python",
   "name": "python2"
  },
  "language_info": {
   "codemirror_mode": {
    "name": "ipython",
    "version": 2
   },
   "file_extension": ".py",
   "mimetype": "text/x-python",
   "name": "python",
   "nbconvert_exporter": "python",
   "pygments_lexer": "ipython2",
   "version": "2.7.11"
  }
 },
 "nbformat": 4,
 "nbformat_minor": 0
}
