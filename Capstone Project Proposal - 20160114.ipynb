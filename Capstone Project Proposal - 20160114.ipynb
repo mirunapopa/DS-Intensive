{
 "cells": [
  {
   "cell_type": "markdown",
   "metadata": {},
   "source": [
    "1. **What is the problem you want to solve?**\n",
    "    *New user bookings* - predict what will be the first destination users choose.\n",
    "\n",
    "\n",
    "2. ***Who is your client and why do they care about this problem? In other words, what will your client DO or DECIDE based on your analysis that they wouldn’t have otherwise?**\n",
    "    Airbnb can share more personalized content with their community, decrease the average time to first booking, and better forecast demand.\n",
    "\n",
    "\n",
    "3. **What data are you going to use for this? How will you acquire this data?**\n",
    "    It's already provided by them. https://www.kaggle.com/c/airbnb-recruiting-new-user-bookings\n",
    "\n",
    "\n",
    "4. **In brief, outline your approach to solving this problem (knowing that this might change later).**\n",
    "    * What would the first destination be for new coming users?\n",
    "    * Is there any different preference based on the user’s gender or country of origin?\n",
    "    * What is the path to convert users from non-payers to payers?\n",
    "    * Which are the users likely to book again? \n",
    "\n",
    "\n",
    "5. **What are your deliverables? Typically, this would include code, along with a paper and/or a slide deck.**\n",
    "    Indeed, code + a slide deck and possibly a blogpost on medium. At least I think I want to write more data blogposts in the future, this could be a good beginning. "
   ]
  },
  {
   "cell_type": "code",
   "execution_count": null,
   "metadata": {
    "collapsed": true
   },
   "outputs": [],
   "source": []
  }
 ],
 "metadata": {
  "kernelspec": {
   "display_name": "Python 2",
   "language": "python",
   "name": "python2"
  },
  "language_info": {
   "codemirror_mode": {
    "name": "ipython",
    "version": 2
   },
   "file_extension": ".py",
   "mimetype": "text/x-python",
   "name": "python",
   "nbconvert_exporter": "python",
   "pygments_lexer": "ipython2",
   "version": "2.7.11"
  }
 },
 "nbformat": 4,
 "nbformat_minor": 0
}
