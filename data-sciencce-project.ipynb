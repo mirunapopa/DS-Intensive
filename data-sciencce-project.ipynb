{
 "cells": [
  {
   "cell_type": "code",
   "execution_count": 6,
   "metadata": {
    "collapsed": false
   },
   "outputs": [],
   "source": [
    "import warnings\n",
    "from sklearn import preprocessing\n",
    "\n",
    "import pandas as pd\n",
    "\n",
    "import pylab as pl\n",
    "import numpy as np\n",
    "\n",
    "import matplotlib.pyplot as plt\n",
    "from datetime import datetime\n",
    "\n",
    "from sklearn import preprocessing\n",
    "from sklearn import cross_validation\n",
    "\n",
    "%matplotlib inline\n",
    "plt.style.use('ggplot')\n",
    "warnings.filterwarnings('ignore')"
   ]
  },
  {
   "cell_type": "code",
   "execution_count": 7,
   "metadata": {
    "collapsed": false
   },
   "outputs": [],
   "source": [
    "def read_training_data(data_files):\n",
    "    \n",
    "    age_gender = pd.read_csv(data_files['age_gender'])\n",
    "    countries = pd.read_csv(data_files['countries'])\n",
    "    sessions = pd.read_csv(data_files['sessions'])\n",
    "    train_users = pd.read_csv(data_files['users'])\n",
    "    \n",
    "    return age_gender, countries, sessions, train_users\n",
    "\n",
    "#def"
   ]
  },
  {
   "cell_type": "code",
   "execution_count": 8,
   "metadata": {
    "collapsed": false
   },
   "outputs": [],
   "source": [
    "data_files = {'age_gender':'data/age_gender_bkts.csv',\n",
    "'countries':'data/countries.csv',\n",
    "'sessions':'data/sessions.csv',\n",
    "'users':'data/train_users_2.csv'}"
   ]
  },
  {
   "cell_type": "code",
   "execution_count": 9,
   "metadata": {
    "collapsed": false
   },
   "outputs": [],
   "source": [
    "def clean_up(dataframe):\n",
    "    \n",
    "    dataframe.replace(\"-unknown-\", np.nan, inplace = True)\n",
    "    new_timestamp = dataframe.timestamp_first_active.astype(str)\n",
    "    dates = pd.to_datetime(pd.Series([datetime.strptime(date, '%Y%m%d%H%M%S') for date in new_timestamp]))\n",
    "    \n",
    "    #easiness in using datetime objects\n",
    "    dataframe['timestamp_first_active'] = dates\n",
    "    dataframe['date_account_created'] = pd.to_datetime(dataframe.date_account_created)\n",
    "    dataframe['date_first_booking'] = pd.to_datetime(dataframe.date_first_booking)\n",
    "    dataframe.rename(columns = {'id':'user_id'}, inplace = True)\n",
    "    df = dataframe.merge(sessions, on = 'user_id', how = 'left')\n",
    "    user_ids = df['user_id']\n",
    "    df_2 = df.drop('user_id', axis = 1)\n",
    "    \n",
    "    #sepparating in order to have numerical values for each\n",
    "    \n",
    "    #date_account_created\n",
    "    df_2['dac_year'] = df_2.date_account_created.dt.year\n",
    "    df_2['dac_month'] = df_2.date_account_created.dt.month\n",
    "    df_2['dac_day'] = df_2.date_account_created.dt.day\n",
    "\n",
    "    #timestamp_first_active\n",
    "    df_2['tfa_year'] = df_2.timestamp_first_active.dt.year\n",
    "    df_2['tfa_month'] = df_2.timestamp_first_active.dt.month\n",
    "    df_2['tfa_day'] = df_2.timestamp_first_active.dt.day\n",
    "\n",
    "    #date_first_booking\n",
    "    df_2['dfb_year'] = df_2.date_first_booking.dt.year\n",
    "    df_2['dfb_month'] = df_2.date_first_booking.dt.month\n",
    "    df_2['dfb_day'] = df_2.date_first_booking.dt.day\n",
    "    df_2 = df_2.drop(['date_account_created','timestamp_first_active','date_first_booking'],axis = 1)\n",
    "    \n",
    "    if 'country_destination' in list(df_2.columns):\n",
    "\n",
    "        labels = df_2.country_destination\n",
    "        df_2 = df_2.drop('country_destination', axis = 1)\n",
    "        \n",
    "        return df_2, labels, user_ids\n",
    "        \n",
    "    else:\n",
    "         \n",
    "        return df_2, user_ids\n",
    "    \n",
    "    #if\n",
    "\n",
    "#def\n",
    "\n",
    "def encode_df(df_in,feature_list):\n",
    "    \n",
    "    #encoding all the non-numerical variables\n",
    "    \n",
    "    le = preprocessing.LabelEncoder()\n",
    "    \n",
    "    for item in feature_list:\n",
    "        le.fit(df_in[item])\n",
    "        encoded = le.transform(df_in[item])\n",
    "        df_in[item] = encoded\n",
    "    #for\n",
    "    \n",
    "    df_in = df_in.fillna(-1)\n",
    "    \n",
    "    return df_in\n",
    "\n",
    "#def\n",
    "\n",
    "def preprocessing_df(df_in,mode='train',normalizers=None):\n",
    "    \n",
    "    #\n",
    "    # normalising the rest of the variables\n",
    "    #\n",
    "    \n",
    "    if mode == 'train':\n",
    "        normalizers = {}\n",
    "        for item in list(df_in.columns):\n",
    "            scaler = preprocessing.MinMaxScaler()\n",
    "            df_in[item] = scaler.fit_transform(df_in[item])\n",
    "            normalizers[item] = scaler\n",
    "        #for\n",
    "    elif mode == 'test':\n",
    "        for item in list(df_in.columns):\n",
    "            df_in[item] = normalizers[item].transform(df_in[item])\n",
    "        #for\n",
    "    else:\n",
    "        print 'Mode not defined {}'.format(mode)\n",
    "    #if\n",
    "        \n",
    "    return df_in, normalizers\n",
    "    \n",
    "#def"
   ]
  },
  {
   "cell_type": "code",
   "execution_count": 10,
   "metadata": {
    "collapsed": true
   },
   "outputs": [],
   "source": [
    "feature_list = ['gender','signup_method','language','affiliate_channel',\n",
    "         'affiliate_provider','first_affiliate_tracked','affiliate_provider',\n",
    "         'first_affiliate_tracked','signup_app','first_device_type','first_browser','action',\n",
    "        'action_type','action_detail','device_type']"
   ]
  },
  {
   "cell_type": "code",
   "execution_count": 14,
   "metadata": {
    "collapsed": false
   },
   "outputs": [],
   "source": [
    "age_gender, countries, sessions, train_users = read_training_data(data_files)"
   ]
  },
  {
   "cell_type": "code",
   "execution_count": 15,
   "metadata": {
    "collapsed": false
   },
   "outputs": [],
   "source": [
    "import warnings\n",
    "warnings.filterwarnings('ignore')\n",
    "\n",
    "train_set, train_labels, train_user_id = clean_up(train_users)"
   ]
  },
  {
   "cell_type": "code",
   "execution_count": 16,
   "metadata": {
    "collapsed": true
   },
   "outputs": [],
   "source": [
    "train_set = encode_df(train_set, feature_list)"
   ]
  },
  {
   "cell_type": "code",
   "execution_count": 17,
   "metadata": {
    "collapsed": false
   },
   "outputs": [],
   "source": [
    "train_set, normalizers = preprocessing_df(train_set,mode='train',normalizers=None)"
   ]
  },
  {
   "cell_type": "code",
   "execution_count": 21,
   "metadata": {
    "collapsed": false
   },
   "outputs": [],
   "source": [
    "encoded_dummies = pd.get_dummies(train_labels)\n",
    "#encoded_dummies = pd.get_dummies(train_labels).as_matrix()"
   ]
  },
  {
   "cell_type": "code",
   "execution_count": 22,
   "metadata": {
    "collapsed": true
   },
   "outputs": [],
   "source": [
    "X_train, X_test, y_train, y_test = cross_validation.train_test_split(train_set, encoded_dummies, test_size=0.3, random_state=0)"
   ]
  },
  {
   "cell_type": "code",
   "execution_count": 23,
   "metadata": {
    "collapsed": false
   },
   "outputs": [
    {
     "name": "stdout",
     "output_type": "stream",
     "text": [
      "training: 3974315, 3974315\n",
      "test: 1703278, 1703278\n"
     ]
    }
   ],
   "source": [
    "print \"training: %i, %i\" % (X_train.shape[0],y_train.shape[0])\n",
    "print \"test: %i, %i\" % (X_test.shape[0],y_test.shape[0])"
   ]
  },
  {
   "cell_type": "code",
   "execution_count": 24,
   "metadata": {
    "collapsed": true
   },
   "outputs": [],
   "source": [
    "from sklearn.multiclass import OneVsRestClassifier\n",
    "from sklearn.linear_model import SGDClassifier\n",
    "from sklearn.ensemble import RandomForestClassifier"
   ]
  },
  {
   "cell_type": "code",
   "execution_count": 25,
   "metadata": {
    "collapsed": true
   },
   "outputs": [],
   "source": [
    "clf = OneVsRestClassifier(RandomForestClassifier(random_state=0))"
   ]
  },
  {
   "cell_type": "code",
   "execution_count": 26,
   "metadata": {
    "collapsed": false
   },
   "outputs": [
    {
     "data": {
      "text/plain": [
       "OneVsRestClassifier(estimator=RandomForestClassifier(bootstrap=True, class_weight=None, criterion='gini',\n",
       "            max_depth=None, max_features='auto', max_leaf_nodes=None,\n",
       "            min_samples_leaf=1, min_samples_split=2,\n",
       "            min_weight_fraction_leaf=0.0, n_estimators=10, n_jobs=1,\n",
       "            oob_score=False, random_state=0, verbose=0, warm_start=False),\n",
       "          n_jobs=1)"
      ]
     },
     "execution_count": 26,
     "metadata": {},
     "output_type": "execute_result"
    }
   ],
   "source": [
    "clf.fit(X_train, y_train)"
   ]
  },
  {
   "cell_type": "code",
   "execution_count": 27,
   "metadata": {
    "collapsed": false
   },
   "outputs": [
    {
     "data": {
      "text/plain": [
       "array([[0, 0, 0, ..., 0, 1, 0],\n",
       "       [0, 0, 0, ..., 0, 1, 0],\n",
       "       [0, 0, 0, ..., 0, 0, 0],\n",
       "       ..., \n",
       "       [0, 0, 0, ..., 0, 0, 0],\n",
       "       [0, 0, 0, ..., 0, 0, 0],\n",
       "       [0, 0, 0, ..., 0, 1, 0]])"
      ]
     },
     "execution_count": 27,
     "metadata": {},
     "output_type": "execute_result"
    }
   ],
   "source": [
    "clf.predict(X_test)"
   ]
  },
  {
   "cell_type": "code",
   "execution_count": 28,
   "metadata": {
    "collapsed": false
   },
   "outputs": [
    {
     "data": {
      "text/plain": [
       "0.99241932321089099"
      ]
     },
     "execution_count": 28,
     "metadata": {},
     "output_type": "execute_result"
    }
   ],
   "source": [
    "clf.score(X_test, y_test)"
   ]
  },
  {
   "cell_type": "code",
   "execution_count": null,
   "metadata": {
    "collapsed": false
   },
   "outputs": [],
   "source": [
    "x_test_probabilities = clf.predict_proba(X_test)"
   ]
  },
  {
   "cell_type": "code",
   "execution_count": 46,
   "metadata": {
    "collapsed": false
   },
   "outputs": [
    {
     "data": {
      "text/html": [
       "<div>\n",
       "<table border=\"1\" class=\"dataframe\">\n",
       "  <thead>\n",
       "    <tr style=\"text-align: right;\">\n",
       "      <th></th>\n",
       "      <th>AU</th>\n",
       "      <th>CA</th>\n",
       "      <th>DE</th>\n",
       "      <th>ES</th>\n",
       "      <th>FR</th>\n",
       "      <th>GB</th>\n",
       "      <th>IT</th>\n",
       "      <th>NDF</th>\n",
       "      <th>NL</th>\n",
       "      <th>PT</th>\n",
       "      <th>US</th>\n",
       "      <th>other</th>\n",
       "    </tr>\n",
       "  </thead>\n",
       "  <tbody>\n",
       "    <tr>\n",
       "      <th>0</th>\n",
       "      <td>0</td>\n",
       "      <td>0</td>\n",
       "      <td>0</td>\n",
       "      <td>0.0</td>\n",
       "      <td>0.0</td>\n",
       "      <td>0</td>\n",
       "      <td>0</td>\n",
       "      <td>0</td>\n",
       "      <td>0.0</td>\n",
       "      <td>0</td>\n",
       "      <td>1.0</td>\n",
       "      <td>0.0</td>\n",
       "    </tr>\n",
       "    <tr>\n",
       "      <th>1</th>\n",
       "      <td>0</td>\n",
       "      <td>0</td>\n",
       "      <td>0</td>\n",
       "      <td>0.4</td>\n",
       "      <td>0.1</td>\n",
       "      <td>0</td>\n",
       "      <td>0</td>\n",
       "      <td>0</td>\n",
       "      <td>0.1</td>\n",
       "      <td>0</td>\n",
       "      <td>0.7</td>\n",
       "      <td>0.3</td>\n",
       "    </tr>\n",
       "    <tr>\n",
       "      <th>2</th>\n",
       "      <td>0</td>\n",
       "      <td>0</td>\n",
       "      <td>0</td>\n",
       "      <td>0.0</td>\n",
       "      <td>0.0</td>\n",
       "      <td>0</td>\n",
       "      <td>0</td>\n",
       "      <td>1</td>\n",
       "      <td>0.0</td>\n",
       "      <td>0</td>\n",
       "      <td>0.0</td>\n",
       "      <td>0.0</td>\n",
       "    </tr>\n",
       "    <tr>\n",
       "      <th>3</th>\n",
       "      <td>0</td>\n",
       "      <td>0</td>\n",
       "      <td>0</td>\n",
       "      <td>0.0</td>\n",
       "      <td>0.0</td>\n",
       "      <td>0</td>\n",
       "      <td>0</td>\n",
       "      <td>0</td>\n",
       "      <td>0.0</td>\n",
       "      <td>0</td>\n",
       "      <td>1.0</td>\n",
       "      <td>0.0</td>\n",
       "    </tr>\n",
       "    <tr>\n",
       "      <th>4</th>\n",
       "      <td>0</td>\n",
       "      <td>0</td>\n",
       "      <td>0</td>\n",
       "      <td>0.0</td>\n",
       "      <td>0.0</td>\n",
       "      <td>0</td>\n",
       "      <td>0</td>\n",
       "      <td>1</td>\n",
       "      <td>0.0</td>\n",
       "      <td>0</td>\n",
       "      <td>0.0</td>\n",
       "      <td>0.0</td>\n",
       "    </tr>\n",
       "  </tbody>\n",
       "</table>\n",
       "</div>"
      ],
      "text/plain": [
       "   AU  CA  DE   ES   FR  GB  IT  NDF   NL  PT   US  other\n",
       "0   0   0   0  0.0  0.0   0   0    0  0.0   0  1.0    0.0\n",
       "1   0   0   0  0.4  0.1   0   0    0  0.1   0  0.7    0.3\n",
       "2   0   0   0  0.0  0.0   0   0    1  0.0   0  0.0    0.0\n",
       "3   0   0   0  0.0  0.0   0   0    0  0.0   0  1.0    0.0\n",
       "4   0   0   0  0.0  0.0   0   0    1  0.0   0  0.0    0.0"
      ]
     },
     "execution_count": 46,
     "metadata": {},
     "output_type": "execute_result"
    }
   ],
   "source": [
    "x_test_probabilities = pd.DataFrame(x_test_probabilities, columns = encoded_dummies.columns)\n",
    "x_test_probabilities.head()"
   ]
  },
  {
   "cell_type": "code",
   "execution_count": 48,
   "metadata": {
    "collapsed": false
   },
   "outputs": [],
   "source": [
    "X_test = X_test.drop('index', axis = 1)"
   ]
  },
  {
   "cell_type": "code",
   "execution_count": 49,
   "metadata": {
    "collapsed": false
   },
   "outputs": [
    {
     "data": {
      "text/html": [
       "<div>\n",
       "<table border=\"1\" class=\"dataframe\">\n",
       "  <thead>\n",
       "    <tr style=\"text-align: right;\">\n",
       "      <th></th>\n",
       "      <th>gender</th>\n",
       "      <th>age</th>\n",
       "      <th>signup_method</th>\n",
       "      <th>signup_flow</th>\n",
       "      <th>language</th>\n",
       "      <th>affiliate_channel</th>\n",
       "      <th>affiliate_provider</th>\n",
       "      <th>first_affiliate_tracked</th>\n",
       "      <th>signup_app</th>\n",
       "      <th>first_device_type</th>\n",
       "      <th>...</th>\n",
       "      <th>secs_elapsed</th>\n",
       "      <th>dac_year</th>\n",
       "      <th>dac_month</th>\n",
       "      <th>dac_day</th>\n",
       "      <th>tfa_year</th>\n",
       "      <th>tfa_month</th>\n",
       "      <th>tfa_day</th>\n",
       "      <th>dfb_year</th>\n",
       "      <th>dfb_month</th>\n",
       "      <th>dfb_day</th>\n",
       "    </tr>\n",
       "  </thead>\n",
       "  <tbody>\n",
       "    <tr>\n",
       "      <th>0</th>\n",
       "      <td>0.000000</td>\n",
       "      <td>0.000000</td>\n",
       "      <td>0</td>\n",
       "      <td>0.00</td>\n",
       "      <td>0.208333</td>\n",
       "      <td>0.714286</td>\n",
       "      <td>0.470588</td>\n",
       "      <td>1.000000</td>\n",
       "      <td>0.666667</td>\n",
       "      <td>0.750</td>\n",
       "      <td>...</td>\n",
       "      <td>0.000056</td>\n",
       "      <td>1</td>\n",
       "      <td>0.363636</td>\n",
       "      <td>0.966667</td>\n",
       "      <td>1</td>\n",
       "      <td>0.363636</td>\n",
       "      <td>0.966667</td>\n",
       "      <td>0.999504</td>\n",
       "      <td>0.538462</td>\n",
       "      <td>0.65625</td>\n",
       "    </tr>\n",
       "    <tr>\n",
       "      <th>1</th>\n",
       "      <td>0.000000</td>\n",
       "      <td>0.000000</td>\n",
       "      <td>0</td>\n",
       "      <td>0.00</td>\n",
       "      <td>0.208333</td>\n",
       "      <td>0.285714</td>\n",
       "      <td>0.235294</td>\n",
       "      <td>1.000000</td>\n",
       "      <td>0.666667</td>\n",
       "      <td>0.375</td>\n",
       "      <td>...</td>\n",
       "      <td>0.389233</td>\n",
       "      <td>1</td>\n",
       "      <td>0.363636</td>\n",
       "      <td>0.600000</td>\n",
       "      <td>1</td>\n",
       "      <td>0.363636</td>\n",
       "      <td>0.600000</td>\n",
       "      <td>0.999504</td>\n",
       "      <td>0.461538</td>\n",
       "      <td>0.62500</td>\n",
       "    </tr>\n",
       "    <tr>\n",
       "      <th>2</th>\n",
       "      <td>0.000000</td>\n",
       "      <td>0.000000</td>\n",
       "      <td>0</td>\n",
       "      <td>0.96</td>\n",
       "      <td>0.208333</td>\n",
       "      <td>0.285714</td>\n",
       "      <td>0.235294</td>\n",
       "      <td>1.000000</td>\n",
       "      <td>0.333333</td>\n",
       "      <td>0.500</td>\n",
       "      <td>...</td>\n",
       "      <td>0.000118</td>\n",
       "      <td>1</td>\n",
       "      <td>0.090909</td>\n",
       "      <td>0.700000</td>\n",
       "      <td>1</td>\n",
       "      <td>0.090909</td>\n",
       "      <td>0.700000</td>\n",
       "      <td>0.000000</td>\n",
       "      <td>0.000000</td>\n",
       "      <td>0.00000</td>\n",
       "    </tr>\n",
       "    <tr>\n",
       "      <th>3</th>\n",
       "      <td>0.333333</td>\n",
       "      <td>0.014888</td>\n",
       "      <td>0</td>\n",
       "      <td>0.00</td>\n",
       "      <td>0.208333</td>\n",
       "      <td>0.285714</td>\n",
       "      <td>0.235294</td>\n",
       "      <td>1.000000</td>\n",
       "      <td>0.666667</td>\n",
       "      <td>0.750</td>\n",
       "      <td>...</td>\n",
       "      <td>0.000434</td>\n",
       "      <td>1</td>\n",
       "      <td>0.363636</td>\n",
       "      <td>0.900000</td>\n",
       "      <td>1</td>\n",
       "      <td>0.363636</td>\n",
       "      <td>0.900000</td>\n",
       "      <td>1.000000</td>\n",
       "      <td>0.384615</td>\n",
       "      <td>0.87500</td>\n",
       "    </tr>\n",
       "    <tr>\n",
       "      <th>4</th>\n",
       "      <td>0.000000</td>\n",
       "      <td>0.000000</td>\n",
       "      <td>0</td>\n",
       "      <td>0.00</td>\n",
       "      <td>0.208333</td>\n",
       "      <td>0.714286</td>\n",
       "      <td>0.470588</td>\n",
       "      <td>0.571429</td>\n",
       "      <td>0.666667</td>\n",
       "      <td>0.375</td>\n",
       "      <td>...</td>\n",
       "      <td>0.000041</td>\n",
       "      <td>1</td>\n",
       "      <td>0.090909</td>\n",
       "      <td>0.700000</td>\n",
       "      <td>1</td>\n",
       "      <td>0.090909</td>\n",
       "      <td>0.700000</td>\n",
       "      <td>0.000000</td>\n",
       "      <td>0.000000</td>\n",
       "      <td>0.00000</td>\n",
       "    </tr>\n",
       "  </tbody>\n",
       "</table>\n",
       "<p>5 rows × 25 columns</p>\n",
       "</div>"
      ],
      "text/plain": [
       "     gender       age  signup_method  signup_flow  language  \\\n",
       "0  0.000000  0.000000              0         0.00  0.208333   \n",
       "1  0.000000  0.000000              0         0.00  0.208333   \n",
       "2  0.000000  0.000000              0         0.96  0.208333   \n",
       "3  0.333333  0.014888              0         0.00  0.208333   \n",
       "4  0.000000  0.000000              0         0.00  0.208333   \n",
       "\n",
       "   affiliate_channel  affiliate_provider  first_affiliate_tracked  signup_app  \\\n",
       "0           0.714286            0.470588                 1.000000    0.666667   \n",
       "1           0.285714            0.235294                 1.000000    0.666667   \n",
       "2           0.285714            0.235294                 1.000000    0.333333   \n",
       "3           0.285714            0.235294                 1.000000    0.666667   \n",
       "4           0.714286            0.470588                 0.571429    0.666667   \n",
       "\n",
       "   first_device_type   ...     secs_elapsed  dac_year  dac_month   dac_day  \\\n",
       "0              0.750   ...         0.000056         1   0.363636  0.966667   \n",
       "1              0.375   ...         0.389233         1   0.363636  0.600000   \n",
       "2              0.500   ...         0.000118         1   0.090909  0.700000   \n",
       "3              0.750   ...         0.000434         1   0.363636  0.900000   \n",
       "4              0.375   ...         0.000041         1   0.090909  0.700000   \n",
       "\n",
       "   tfa_year  tfa_month   tfa_day  dfb_year  dfb_month  dfb_day  \n",
       "0         1   0.363636  0.966667  0.999504   0.538462  0.65625  \n",
       "1         1   0.363636  0.600000  0.999504   0.461538  0.62500  \n",
       "2         1   0.090909  0.700000  0.000000   0.000000  0.00000  \n",
       "3         1   0.363636  0.900000  1.000000   0.384615  0.87500  \n",
       "4         1   0.090909  0.700000  0.000000   0.000000  0.00000  \n",
       "\n",
       "[5 rows x 25 columns]"
      ]
     },
     "execution_count": 49,
     "metadata": {},
     "output_type": "execute_result"
    }
   ],
   "source": [
    "X_test.head()"
   ]
  },
  {
   "cell_type": "code",
   "execution_count": 50,
   "metadata": {
    "collapsed": false
   },
   "outputs": [
    {
     "name": "stdout",
     "output_type": "stream",
     "text": [
      "1703278\n",
      "1703278\n"
     ]
    }
   ],
   "source": [
    "print X_test.shape[0]\n",
    "print x_test_probabilities.shape[0]\n"
   ]
  },
  {
   "cell_type": "code",
   "execution_count": 54,
   "metadata": {
    "collapsed": false
   },
   "outputs": [],
   "source": [
    "df = pd.concat([X_test, x_test_probabilities], axis=1)"
   ]
  },
  {
   "cell_type": "code",
   "execution_count": 60,
   "metadata": {
    "collapsed": false
   },
   "outputs": [
    {
     "data": {
      "text/html": [
       "<div>\n",
       "<table border=\"1\" class=\"dataframe\">\n",
       "  <thead>\n",
       "    <tr style=\"text-align: right;\">\n",
       "      <th></th>\n",
       "      <th>user_id</th>\n",
       "      <th>AU</th>\n",
       "      <th>CA</th>\n",
       "      <th>DE</th>\n",
       "      <th>ES</th>\n",
       "      <th>FR</th>\n",
       "      <th>GB</th>\n",
       "      <th>IT</th>\n",
       "      <th>NDF</th>\n",
       "      <th>NL</th>\n",
       "      <th>PT</th>\n",
       "      <th>US</th>\n",
       "      <th>other</th>\n",
       "    </tr>\n",
       "  </thead>\n",
       "  <tbody>\n",
       "    <tr>\n",
       "      <th>0</th>\n",
       "      <td>gxn3p5htnn</td>\n",
       "      <td>0</td>\n",
       "      <td>0</td>\n",
       "      <td>0</td>\n",
       "      <td>0.0</td>\n",
       "      <td>0.0</td>\n",
       "      <td>0</td>\n",
       "      <td>0</td>\n",
       "      <td>0</td>\n",
       "      <td>0.0</td>\n",
       "      <td>0</td>\n",
       "      <td>1.0</td>\n",
       "      <td>0.0</td>\n",
       "    </tr>\n",
       "    <tr>\n",
       "      <th>1</th>\n",
       "      <td>820tgsjxq7</td>\n",
       "      <td>0</td>\n",
       "      <td>0</td>\n",
       "      <td>0</td>\n",
       "      <td>0.4</td>\n",
       "      <td>0.1</td>\n",
       "      <td>0</td>\n",
       "      <td>0</td>\n",
       "      <td>0</td>\n",
       "      <td>0.1</td>\n",
       "      <td>0</td>\n",
       "      <td>0.7</td>\n",
       "      <td>0.3</td>\n",
       "    </tr>\n",
       "    <tr>\n",
       "      <th>2</th>\n",
       "      <td>4ft3gnwmtx</td>\n",
       "      <td>0</td>\n",
       "      <td>0</td>\n",
       "      <td>0</td>\n",
       "      <td>0.0</td>\n",
       "      <td>0.0</td>\n",
       "      <td>0</td>\n",
       "      <td>0</td>\n",
       "      <td>1</td>\n",
       "      <td>0.0</td>\n",
       "      <td>0</td>\n",
       "      <td>0.0</td>\n",
       "      <td>0.0</td>\n",
       "    </tr>\n",
       "    <tr>\n",
       "      <th>3</th>\n",
       "      <td>bjjt8pjhuk</td>\n",
       "      <td>0</td>\n",
       "      <td>0</td>\n",
       "      <td>0</td>\n",
       "      <td>0.0</td>\n",
       "      <td>0.0</td>\n",
       "      <td>0</td>\n",
       "      <td>0</td>\n",
       "      <td>0</td>\n",
       "      <td>0.0</td>\n",
       "      <td>0</td>\n",
       "      <td>1.0</td>\n",
       "      <td>0.0</td>\n",
       "    </tr>\n",
       "    <tr>\n",
       "      <th>4</th>\n",
       "      <td>87mebub9p4</td>\n",
       "      <td>0</td>\n",
       "      <td>0</td>\n",
       "      <td>0</td>\n",
       "      <td>0.0</td>\n",
       "      <td>0.0</td>\n",
       "      <td>0</td>\n",
       "      <td>0</td>\n",
       "      <td>1</td>\n",
       "      <td>0.0</td>\n",
       "      <td>0</td>\n",
       "      <td>0.0</td>\n",
       "      <td>0.0</td>\n",
       "    </tr>\n",
       "  </tbody>\n",
       "</table>\n",
       "</div>"
      ],
      "text/plain": [
       "      user_id  AU  CA  DE   ES   FR  GB  IT  NDF   NL  PT   US  other\n",
       "0  gxn3p5htnn   0   0   0  0.0  0.0   0   0    0  0.0   0  1.0    0.0\n",
       "1  820tgsjxq7   0   0   0  0.4  0.1   0   0    0  0.1   0  0.7    0.3\n",
       "2  4ft3gnwmtx   0   0   0  0.0  0.0   0   0    1  0.0   0  0.0    0.0\n",
       "3  bjjt8pjhuk   0   0   0  0.0  0.0   0   0    0  0.0   0  1.0    0.0\n",
       "4  87mebub9p4   0   0   0  0.0  0.0   0   0    1  0.0   0  0.0    0.0"
      ]
     },
     "execution_count": 60,
     "metadata": {},
     "output_type": "execute_result"
    }
   ],
   "source": [
    "df['user_id'] = train_user_id\n",
    "df_to_use = df[['user_id','AU','CA','DE','ES','FR','GB','IT','NDF','NL','PT','US','other']]\n",
    "df_to_use.head()"
   ]
  },
  {
   "cell_type": "code",
   "execution_count": 99,
   "metadata": {
    "collapsed": false
   },
   "outputs": [
    {
     "data": {
      "text/html": [
       "<div>\n",
       "<table border=\"1\" class=\"dataframe\">\n",
       "  <thead>\n",
       "    <tr style=\"text-align: right;\">\n",
       "      <th></th>\n",
       "      <th>user_id</th>\n",
       "      <th>AU</th>\n",
       "      <th>CA</th>\n",
       "      <th>DE</th>\n",
       "      <th>ES</th>\n",
       "      <th>FR</th>\n",
       "      <th>GB</th>\n",
       "      <th>IT</th>\n",
       "      <th>NDF</th>\n",
       "      <th>NL</th>\n",
       "      <th>PT</th>\n",
       "      <th>US</th>\n",
       "      <th>other</th>\n",
       "    </tr>\n",
       "  </thead>\n",
       "  <tbody>\n",
       "    <tr>\n",
       "      <th>0</th>\n",
       "      <td>0005ytdols</td>\n",
       "      <td>7</td>\n",
       "      <td>0</td>\n",
       "      <td>1</td>\n",
       "      <td>2</td>\n",
       "      <td>3</td>\n",
       "      <td>4</td>\n",
       "      <td>5</td>\n",
       "      <td>6</td>\n",
       "      <td>8</td>\n",
       "      <td>9</td>\n",
       "      <td>10</td>\n",
       "      <td>11</td>\n",
       "    </tr>\n",
       "    <tr>\n",
       "      <th>1</th>\n",
       "      <td>000guo2307</td>\n",
       "      <td>7</td>\n",
       "      <td>0</td>\n",
       "      <td>1</td>\n",
       "      <td>2</td>\n",
       "      <td>3</td>\n",
       "      <td>4</td>\n",
       "      <td>5</td>\n",
       "      <td>6</td>\n",
       "      <td>8</td>\n",
       "      <td>9</td>\n",
       "      <td>10</td>\n",
       "      <td>11</td>\n",
       "    </tr>\n",
       "    <tr>\n",
       "      <th>2</th>\n",
       "      <td>000wc9mlv3</td>\n",
       "      <td>7</td>\n",
       "      <td>0</td>\n",
       "      <td>1</td>\n",
       "      <td>2</td>\n",
       "      <td>3</td>\n",
       "      <td>4</td>\n",
       "      <td>5</td>\n",
       "      <td>6</td>\n",
       "      <td>8</td>\n",
       "      <td>9</td>\n",
       "      <td>10</td>\n",
       "      <td>11</td>\n",
       "    </tr>\n",
       "    <tr>\n",
       "      <th>3</th>\n",
       "      <td>0012yo8hu2</td>\n",
       "      <td>10</td>\n",
       "      <td>0</td>\n",
       "      <td>1</td>\n",
       "      <td>2</td>\n",
       "      <td>3</td>\n",
       "      <td>4</td>\n",
       "      <td>5</td>\n",
       "      <td>6</td>\n",
       "      <td>7</td>\n",
       "      <td>8</td>\n",
       "      <td>9</td>\n",
       "      <td>11</td>\n",
       "    </tr>\n",
       "    <tr>\n",
       "      <th>4</th>\n",
       "      <td>001357912w</td>\n",
       "      <td>7</td>\n",
       "      <td>0</td>\n",
       "      <td>1</td>\n",
       "      <td>2</td>\n",
       "      <td>3</td>\n",
       "      <td>4</td>\n",
       "      <td>5</td>\n",
       "      <td>6</td>\n",
       "      <td>8</td>\n",
       "      <td>9</td>\n",
       "      <td>10</td>\n",
       "      <td>11</td>\n",
       "    </tr>\n",
       "  </tbody>\n",
       "</table>\n",
       "</div>"
      ],
      "text/plain": [
       "      user_id  AU  CA  DE  ES  FR  GB  IT  NDF  NL  PT  US  other\n",
       "0  0005ytdols   7   0   1   2   3   4   5    6   8   9  10     11\n",
       "1  000guo2307   7   0   1   2   3   4   5    6   8   9  10     11\n",
       "2  000wc9mlv3   7   0   1   2   3   4   5    6   8   9  10     11\n",
       "3  0012yo8hu2  10   0   1   2   3   4   5    6   7   8   9     11\n",
       "4  001357912w   7   0   1   2   3   4   5    6   8   9  10     11"
      ]
     },
     "execution_count": 99,
     "metadata": {},
     "output_type": "execute_result"
    }
   ],
   "source": [
    "df_averages = df_to_use.groupby('user_id').mean()\n",
    "\n",
    "\n",
    "final_df = np.argsort(-df_averages).reset_index()\n",
    "final_df.head()\n",
    "# for user_id, row in df_averages.head().iterrows():\n",
    "#     x = row.to_dict()\n",
    "#     print {x for key,value in x.iteritems}\n",
    "\n"
   ]
  },
  {
   "cell_type": "code",
   "execution_count": 122,
   "metadata": {
    "collapsed": false
   },
   "outputs": [
    {
     "name": "stdout",
     "output_type": "stream",
     "text": [
      "{'0005ytdols': {'FR': 3, 'CA': 0, 'DE': 1, 'AU': 7, 'GB': 4, 'ES': 2}}\n",
      "{'0005ytdols': {'FR': 3, 'CA': 0, 'DE': 1, 'AU': 7, 'GB': 4, 'ES': 2}, '000guo2307': {'FR': 3, 'CA': 0, 'DE': 1, 'AU': 7, 'GB': 4, 'ES': 2}}\n",
      "{'0005ytdols': {'FR': 3, 'CA': 0, 'DE': 1, 'AU': 7, 'GB': 4, 'ES': 2}, '000guo2307': {'FR': 3, 'CA': 0, 'DE': 1, 'AU': 7, 'GB': 4, 'ES': 2}, '000wc9mlv3': {'FR': 3, 'CA': 0, 'DE': 1, 'AU': 7, 'GB': 4, 'ES': 2}}\n",
      "{'0005ytdols': {'FR': 3, 'CA': 0, 'DE': 1, 'AU': 7, 'GB': 4, 'ES': 2}, '0012yo8hu2': {'FR': 3, 'CA': 0, 'DE': 1, 'AU': 10, 'GB': 4, 'ES': 2}, '000guo2307': {'FR': 3, 'CA': 0, 'DE': 1, 'AU': 7, 'GB': 4, 'ES': 2}, '000wc9mlv3': {'FR': 3, 'CA': 0, 'DE': 1, 'AU': 7, 'GB': 4, 'ES': 2}}\n",
      "{'0005ytdols': {'FR': 3, 'CA': 0, 'DE': 1, 'AU': 7, 'GB': 4, 'ES': 2}, '001357912w': {'FR': 3, 'CA': 0, 'DE': 1, 'AU': 7, 'GB': 4, 'ES': 2}, '0012yo8hu2': {'FR': 3, 'CA': 0, 'DE': 1, 'AU': 10, 'GB': 4, 'ES': 2}, '000guo2307': {'FR': 3, 'CA': 0, 'DE': 1, 'AU': 7, 'GB': 4, 'ES': 2}, '000wc9mlv3': {'FR': 3, 'CA': 0, 'DE': 1, 'AU': 7, 'GB': 4, 'ES': 2}}\n"
     ]
    }
   ],
   "source": [
    "submission = {}\n",
    "for index, row in final_df.head().iterrows():\n",
    "    country = {}\n",
    "    country['AU']=row['AU']\n",
    "    country['CA'] = row['CA']\n",
    "    country['DE'] = row['DE']\n",
    "    country['ES'] = row['ES']\n",
    "    country['FR'] = row['FR']\n",
    "    country['GB'] = row['GB']\n",
    "    \n",
    "    submission[row['user_id']] = country\n",
    "    print submission"
   ]
  },
  {
   "cell_type": "code",
   "execution_count": null,
   "metadata": {
    "collapsed": true
   },
   "outputs": [],
   "source": [
    "submission = DataFrame(columns=[\"id\", \"country\"])\n",
    "\n",
    "# sort countries according to most probable destination country \n",
    "for key in country_df['country'].value_counts().index:\n",
    "    submission = pd.concat([submission, country_df[country_df[\"country\"] == key]], ignore_index=True)"
   ]
  },
  {
   "cell_type": "code",
   "execution_count": null,
   "metadata": {
    "collapsed": false
   },
   "outputs": [],
   "source": [
    "x_test_probs = clf.predict_proba(X_test)"
   ]
  },
  {
   "cell_type": "code",
   "execution_count": null,
   "metadata": {
    "collapsed": false
   },
   "outputs": [],
   "source": [
    "np.argsort(-x_test_probs)[110:120]"
   ]
  },
  {
   "cell_type": "code",
   "execution_count": null,
   "metadata": {
    "collapsed": false
   },
   "outputs": [],
   "source": [
    "y_test_pseudo = np.where(y_test)"
   ]
  },
  {
   "cell_type": "code",
   "execution_count": null,
   "metadata": {
    "collapsed": false
   },
   "outputs": [],
   "source": [
    "np.histogram(y_test_pseudo[:][1])"
   ]
  },
  {
   "cell_type": "code",
   "execution_count": null,
   "metadata": {
    "collapsed": false
   },
   "outputs": [],
   "source": [
    "print encoded_train_labels[1029]\n",
    "print encoded_train_labels[46]\n",
    "print len(encoded_train_labels[1029])"
   ]
  },
  {
   "cell_type": "code",
   "execution_count": null,
   "metadata": {
    "collapsed": true
   },
   "outputs": [],
   "source": [
    "# import warnings\n",
    "# warnings.filterwarnings('ignore')\n",
    "\n",
    "# test_users = pd.read_csv('data/test_users.csv')"
   ]
  },
  {
   "cell_type": "code",
   "execution_count": null,
   "metadata": {
    "collapsed": true
   },
   "outputs": [],
   "source": [
    "# test_set = clean_up(test_users)\n",
    "# test_set = encode_df(test_set)\n",
    "# test_set, _ = preprocessing_df(train_set,mode=='test',normalizers=normalizers)"
   ]
  },
  {
   "cell_type": "markdown",
   "metadata": {},
   "source": [
    "# Process Again\n",
    "****"
   ]
  },
  {
   "cell_type": "code",
   "execution_count": null,
   "metadata": {
    "collapsed": true
   },
   "outputs": [],
   "source": [
    "print train_users.shape[0], train_set.shape[0]"
   ]
  },
  {
   "cell_type": "code",
   "execution_count": null,
   "metadata": {
    "collapsed": false
   },
   "outputs": [],
   "source": [
    "test_users = pd.read_csv('data/test_users.csv')\n",
    "test_set, test_user_id = clean_up(test_users)\n",
    "test_set = encode_df(test_set)\n",
    "test_set, _ = preprocessing_df(train_set, mode = 'test', normalizers = normalizers)"
   ]
  },
  {
   "cell_type": "code",
   "execution_count": null,
   "metadata": {
    "collapsed": true
   },
   "outputs": [],
   "source": [
    "clf = OneVsRestClassifier(RandomForestClassifier(random_state=0))\n",
    "clf.fit(train_set, encoded_dummies)\n",
    "test_predictions = clf.predict_proba(test_set)"
   ]
  },
  {
   "cell_type": "code",
   "execution_count": null,
   "metadata": {
    "collapsed": true
   },
   "outputs": [],
   "source": [
    "test_predictions.head()"
   ]
  }
 ],
 "metadata": {
  "kernelspec": {
   "display_name": "Python 2",
   "language": "python",
   "name": "python2"
  },
  "language_info": {
   "codemirror_mode": {
    "name": "ipython",
    "version": 2
   },
   "file_extension": ".py",
   "mimetype": "text/x-python",
   "name": "python",
   "nbconvert_exporter": "python",
   "pygments_lexer": "ipython2",
   "version": "2.7.11"
  }
 },
 "nbformat": 4,
 "nbformat_minor": 0
}
