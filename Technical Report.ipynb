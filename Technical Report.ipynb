{
 "cells": [
  {
   "cell_type": "code",
   "execution_count": 82,
   "metadata": {
    "collapsed": false
   },
   "outputs": [
    {
     "data": {
      "text/html": [
       "<script>\n",
       "code_show=true; \n",
       "function code_toggle() {\n",
       " if (code_show){\n",
       " $('div.input').hide();\n",
       " } else {\n",
       " $('div.input').show();\n",
       " }\n",
       " code_show = !code_show\n",
       "} \n",
       "$( document ).ready(code_toggle);\n",
       "</script>\n",
       "The raw code for this IPython notebook is by default hidden for easier reading.\n",
       "To toggle on/off the raw code, click <a href=\"javascript:code_toggle()\">here</a>."
      ],
      "text/plain": [
       "<IPython.core.display.HTML object>"
      ]
     },
     "execution_count": 82,
     "metadata": {},
     "output_type": "execute_result"
    }
   ],
   "source": [
    "from IPython.display import HTML\n",
    "\n",
    "HTML('''<script>\n",
    "code_show=true; \n",
    "function code_toggle() {\n",
    " if (code_show){\n",
    " $('div.input').hide();\n",
    " } else {\n",
    " $('div.input').show();\n",
    " }\n",
    " code_show = !code_show\n",
    "} \n",
    "$( document ).ready(code_toggle);\n",
    "</script>\n",
    "The raw code for this IPython notebook is by default hidden for easier reading.\n",
    "To toggle on/off the raw code, click <a href=\"javascript:code_toggle()\">here</a>.''')"
   ]
  },
  {
   "cell_type": "markdown",
   "metadata": {},
   "source": [
    "# AirBnB Bookings \n",
    "### Predicting first destinations of new users\n",
    "****"
   ]
  },
  {
   "cell_type": "markdown",
   "metadata": {},
   "source": [
    "# Introduction\n",
    "****"
   ]
  },
  {
   "cell_type": "markdown",
   "metadata": {},
   "source": [
    "## The Client\n",
    "\n",
    ">Airbnb is a website for people to list, find, and rent lodging. It has over 1,500,000 listings in 34,000 cities and 190 countries. Founded in August 2008 and headquartered in San Francisco, California, the company is privately owned and operated by Airbnb, Inc. - [AirBnB Wikipedia Page](https://en.wikipedia.org/wiki/Airbnb)"
   ]
  },
  {
   "cell_type": "markdown",
   "metadata": {
    "collapsed": true
   },
   "source": [
    "## Problem\n",
    "\n",
    "\n",
    ">New users on Airbnb can book a place to stay in 34,000+ cities across 190+ countries. By accurately predicting where a new user will book their first travel experience, Airbnb can share more personalized content with their community, decrease the average time to first booking, and better forecast demand. - [AirBnB Kaggle Challenge](kaggle.com/c/airbnb-recruiting-new-user-bookings/)\n",
    "\n",
    "In this recruiting competition, Airbnb challenged through Kaggle its users to predict in which country a new user will make his or her first booking."
   ]
  },
  {
   "cell_type": "markdown",
   "metadata": {},
   "source": [
    "## The data\n",
    "\n",
    "First thing that is mentioned about the dataset is that it consists only of US users.\n",
    "\n",
    "There are 12 possible outcomes of the destination country: **'US', 'FR', 'CA', 'GB', 'ES', 'IT', 'PT', 'NL','DE', 'AU', 'NDF'** (no destination found), and **'other'**. \n",
    "\n",
    "'NDF' is different from 'other' because 'other' means there was a booking, but is to a country not included in the list, while 'NDF' means there wasn't a booking."
   ]
  },
  {
   "cell_type": "markdown",
   "metadata": {},
   "source": [
    "## The Files\n",
    "**train_users.csv** - the training set of users\n",
    "\n",
    "**test_users.csv** - the test set of users\n",
    "\n",
    "* *id*: user id\n",
    "\n",
    "* *date_account_created*: the date of account creation\n",
    "\n",
    "* *timestamp_first_active*: timestamp of the first activity, note that it can be earlier than date_account_created or \n",
    "date_first_booking because a user can search before signing up\n",
    "\n",
    "* *date_first_booking*: date of first booking\n",
    "\n",
    "* *gender*\n",
    "\n",
    "* *age*\n",
    "\n",
    "* *signup_method*\n",
    "\n",
    "* *signup_flow*: the page a user came to signup up from\n",
    "\n",
    "* *language*: international language preference\n",
    "\n",
    "* *affiliate_channel*: what kind of paid marketing\n",
    "\n",
    "* *affiliate_provider*: where the marketing is e.g. google, craigslist, other\n",
    "\n",
    "* *first_affiliate_tracked*: whats the first marketing the user interacted with before the signing up\n",
    "\n",
    "* *signup_app*\n",
    "\n",
    "* *first_device_type*\n",
    "\n",
    "* *first_browser*\n",
    "\n",
    "* *country_destination*: this is the target variable\n",
    "\n",
    "\n",
    "**sessions.csv** - web sessions log for users\n",
    "\n",
    "* *user_id*: to be joined with the column 'id' in users table\n",
    "\n",
    "* *action*\n",
    "\n",
    "* *action_type*\n",
    "\n",
    "* *action_detail*\n",
    "\n",
    "* *device_type*\n",
    "\n",
    "* *secs_elapsed*\n",
    "\n",
    "\n",
    "**countries.csv** - summary statistics of destination countries in this dataset and their locations\n",
    "\n",
    "**age_gender_bkts.csv** - summary statistics of users' age group, gender, country of destination\n",
    "\n",
    "**sample_submission.csv** - correct format for submitting your predictions"
   ]
  },
  {
   "cell_type": "markdown",
   "metadata": {},
   "source": [
    "## Approach\n",
    "****\n",
    "\n",
    "\n",
    "Before we even start thinking about which classifier to chose and fitting the data into the model  we have to go through a series of steps, in order to have an expected output.\n",
    "\n",
    "A couple of questions to ask: \n",
    "* Is there any missing data we might be dealing with? \n",
    "* Are there any unusable formats? \n",
    "* Do we have any categorical data? If so, those variables might need encoding\n",
    "* If we have too many features, we might want to consider dimensionality reduction. This means, using any algorithm preferred for choosing a smaller number of features. This can bring benefits from a computation point of view, but also to avoid overfitting, in case there are some variables that just cause noise.\n",
    "\n",
    "\n",
    "So here are some steps to be taken before choosing an estimator:\n",
    "* Data Cleaning\n",
    "* Encoding categorial data\n",
    "* Handeling dates for encoding\n",
    "* Standardizing/Normalizing data\n",
    "* Dimensionality Reduction - *optional*\n",
    "* Cross Validating\n"
   ]
  },
  {
   "cell_type": "markdown",
   "metadata": {
    "collapsed": true
   },
   "source": [
    "### Chosen estimator"
   ]
  },
  {
   "cell_type": "markdown",
   "metadata": {
    "collapsed": true
   },
   "source": [
    "***Random Forests***\n",
    "\n",
    "The reasoning for this was that:\n",
    "* it's simply one of the most common classifiers to be used for labeled data\n",
    "* can deal well with a large amount of data\n",
    "* figures out for itself which features are more important\n"
   ]
  },
  {
   "cell_type": "markdown",
   "metadata": {},
   "source": [
    "## Data Cleaning \n",
    "****\n",
    "\n",
    "### Missing Values\n",
    "\n",
    "A quick view of how much data we're actually missing can be useful to understand which features we can trust when the time of feature selecting comes in. "
   ]
  },
  {
   "cell_type": "code",
   "execution_count": 95,
   "metadata": {
    "collapsed": false
   },
   "outputs": [
    {
     "data": {
      "image/png": "[encoded data removed]",
      "text/plain": [
       "<matplotlib.figure.Figure at 0x1407ab590>"
      ]
     },
     "metadata": {},
     "output_type": "display_data"
    }
   ],
   "source": [
    "import pandas as pd\n",
    "import matplotlib.pyplot as plt\n",
    "import pylab as pl\n",
    "import numpy as np\n",
    "plt.style.use('ggplot')\n",
    "%matplotlib inline\n",
    "plt.rcParams['figure.figsize'] = (15,4)\n",
    "\n",
    "\n",
    "#reading data\n",
    "train_data = pd.read_csv('data/train_users_2.csv')\n",
    "train_nan = train_data.replace('-unknown-', np.nan)\n",
    "test_data = pd.read_csv('data/test_users.csv')\n",
    "test_nan = test_data.replace('-unknown-',np.nan)\n",
    "\n",
    "total_row_train = float(train_nan.shape[0])\n",
    "total_row_test = float(test_nan.shape[0])\n",
    "\n",
    "x = {}\n",
    "for item in list(train_nan.columns):\n",
    "    x[item] = {}\n",
    "    x[item]['train'] = float(train_nan[train_nan[item].isnull()].shape[0])/total_row_train * 100\n",
    "    \n",
    "for item in list(test_nan.columns):\n",
    "    x[item]['test'] = float(test_nan[test_nan[item].isnull()].shape[0])/total_row_test * 100\n",
    "\n",
    "z = pd.DataFrame(x).fillna(0).T\n",
    "z[(z.train >0) & (z.test >0)].plot(kind = 'barh')\n",
    "pl.title(\"Percentage of Missing Data\")\n",
    "pl.ylabel(\"Feature\")\n",
    "pl.xlabel(\"Percentage\");"
   ]
  },
  {
   "cell_type": "markdown",
   "metadata": {},
   "source": [
    "The immediate thing we realise is the fact that date_first_booking will be completely missing from the test set. This makes sense, since the users have not made their first booking at this point, and no country is being predicted for them. But this is definitely a feature that we shouldn't use when we're fitting the model."
   ]
  },
  {
   "cell_type": "markdown",
   "metadata": {},
   "source": [
    "## Age"
   ]
  },
  {
   "cell_type": "markdown",
   "metadata": {},
   "source": [
    "#### Training Data"
   ]
  },
  {
   "cell_type": "code",
   "execution_count": 109,
   "metadata": {
    "collapsed": false
   },
   "outputs": [
    {
     "data": {
      "image/png": "[encoded data removed]",
      "text/plain": [
       "<matplotlib.figure.Figure at 0x132e83b10>"
      ]
     },
     "metadata": {},
     "output_type": "display_data"
    }
   ],
   "source": [
    "plt.rcParams['figure.figsize'] = (15,3)\n",
    "pl.subplot(1,3,1)\n",
    "train_data[(train_data.age >= 14) & (train_data.age <= 100)]['age'].hist()\n",
    "pl.title('Users between 14 and 100')\n",
    "pl.xlabel(\"Age\")\n",
    "pl.ylabel(\"Number of Users\")\n",
    "\n",
    "pl.subplot(1,3,2)\n",
    "train_data[train_data.age < 14]['age'].hist()\n",
    "pl.title('Users below 14')\n",
    "pl.xlabel(\"Age\")\n",
    "pl.ylabel(\"Number of Users\")\n",
    "\n",
    "pl.subplot(1,3,3)\n",
    "train_data[train_data.age > 100]['age'].hist()\n",
    "pl.title('Users above 100')\n",
    "pl.xlabel(\"Age\")\n",
    "pl.ylabel(\"Number of Users\")\n",
    "plt.tight_layout();"
   ]
  },
  {
   "cell_type": "markdown",
   "metadata": {},
   "source": [
    "#### Test Data"
   ]
  },
  {
   "cell_type": "code",
   "execution_count": 110,
   "metadata": {
    "collapsed": false
   },
   "outputs": [
    {
     "data": {
      "image/png": "[encoded data removed]",
      "text/plain": [
       "<matplotlib.figure.Figure at 0x12af6e150>"
      ]
     },
     "metadata": {},
     "output_type": "display_data"
    }
   ],
   "source": [
    "plt.rcParams['figure.figsize'] = (15,3)\n",
    "pl.subplot(1,3,1)\n",
    "test_data[(test_data.age >= 14) & (test_data.age <= 100)]['age'].hist()\n",
    "pl.title('Users between 14 and 100')\n",
    "pl.xlabel(\"Age\")\n",
    "pl.ylabel(\"Number of Users\")\n",
    "\n",
    "pl.subplot(1,3,2)\n",
    "test_data[test_data.age < 14]['age'].hist()\n",
    "pl.title('Users below 14')\n",
    "pl.xlabel(\"Age\")\n",
    "pl.ylabel(\"Number of Users\")\n",
    "\n",
    "pl.subplot(1,3,3)\n",
    "test_data[test_data.age > 100]['age'].hist()\n",
    "pl.title('Users above 100')\n",
    "pl.xlabel(\"Age\")\n",
    "pl.ylabel(\"Number of Users\")\n",
    "plt.tight_layout();"
   ]
  },
  {
   "cell_type": "markdown",
   "metadata": {},
   "source": [
    "The general majority of users got their age input correctly, but some of them, in both training and test set entered either an incorrect age, either their birth year, or current year.\n",
    "This can be misleading when training on it, since the scaling phase of the project on of this variable might not reflect the reality.\n",
    "\n",
    "One way of working with this is to replace values which would represent outliers, with a value that would make the classifier understand it's an incorrect value. In this case, replacing it with \"-1\" might do a bit of justice to the data."
   ]
  },
  {
   "cell_type": "markdown",
   "metadata": {},
   "source": [
    "## Country Destination"
   ]
  },
  {
   "cell_type": "code",
   "execution_count": 121,
   "metadata": {
    "collapsed": false
   },
   "outputs": [
    {
     "data": {
      "image/png": "[encoded data removed]",
      "text/plain": [
       "<matplotlib.figure.Figure at 0x139cc7710>"
      ]
     },
     "metadata": {},
     "output_type": "display_data"
    }
   ],
   "source": [
    "train_data.country_destination.value_counts().plot(kind = 'bar',color = '#ff6666')\n",
    "pl.title(\"Country Destination\")\n",
    "pl.xlabel(\"Country\")\n",
    "pl.ylabel(\"Number of Users\");"
   ]
  },
  {
   "cell_type": "markdown",
   "metadata": {},
   "source": [
    "The main learning we take out of this graph is the fact that we have are dealing with an ***imbalanced dataset***: A very significant amount of users in the training set didn't chose any destination, and this might cause difficulty in choosing accurate predictions for the test set.\n",
    "\n",
    "There is nothing we can do in this state to fix this issue, instead be aware that accuracy score of the Cross Validation phase is not the best metric to look at. Instead, choosing to look into Precission Score, Recall score and F1 score can reflect the prediction better."
   ]
  },
  {
   "cell_type": "markdown",
   "metadata": {},
   "source": [
    "## Encoding categorical data\n",
    "****\n",
    "\n",
    "Most of the classifiers which exist at the moment can't handle categorical data automatically. This means that we would need to encode them ourselves. Examples of categorical features in this case would be: **gender, language, first_device_type.**\n",
    "\n",
    "In this case we used **LabelEncoder()** module as part of the **preprocessing** package sklearn offers."
   ]
  },
  {
   "cell_type": "markdown",
   "metadata": {},
   "source": [
    "## Encoding Dates\n",
    "****\n",
    "\n",
    "Dates are a particular case where they are half categorical, half numerical. You can't use them at their current state, but you can take parts of it and consider that numerical. As a result, we will have at least 3-4 extra features we can gather from dates. The dates columns will be split into: \n",
    "* year\n",
    "* month\n",
    "* day\n",
    "* day of week"
   ]
  },
  {
   "cell_type": "markdown",
   "metadata": {},
   "source": [
    "## Encoding Labels\n",
    "****\n",
    "\n",
    "Since this situation shows us 12 different classes for the labels, these as well need to be encoded in a format that the models can read it. Pandas offers an option of getting the dummy variables for "
   ]
  },
  {
   "cell_type": "markdown",
   "metadata": {},
   "source": [
    "**Standardizing/Normalizing Data** "
   ]
  },
  {
   "cell_type": "markdown",
   "metadata": {},
   "source": [
    "MinMaxScaler()"
   ]
  },
  {
   "cell_type": "markdown",
   "metadata": {},
   "source": [
    "*maybe use explanations on sklearn for these? "
   ]
  },
  {
   "cell_type": "markdown",
   "metadata": {},
   "source": [
    "### Findings"
   ]
  },
  {
   "cell_type": "markdown",
   "metadata": {
    "collapsed": true
   },
   "source": [
    "Example of plots: amount of missing data from age, gender, timestamps, all features if possible"
   ]
  },
  {
   "cell_type": "markdown",
   "metadata": {
    "collapsed": true
   },
   "source": [
    "plot initial findings of destination country"
   ]
  },
  {
   "cell_type": "markdown",
   "metadata": {
    "collapsed": true
   },
   "source": [
    "it generally feels like the users were selected if they their first activity within their first day, and their booking within the first year since signup. This might give a certain impression on users, but might not reflect reality among all users."
   ]
  },
  {
   "cell_type": "markdown",
   "metadata": {
    "collapsed": true
   },
   "source": [
    "plot feature importance of the classifier"
   ]
  },
  {
   "cell_type": "markdown",
   "metadata": {
    "collapsed": true
   },
   "source": [
    "### Future Attempts"
   ]
  },
  {
   "cell_type": "markdown",
   "metadata": {
    "collapsed": true
   },
   "source": [
    "# Conclusions / Recommendations"
   ]
  },
  {
   "cell_type": "markdown",
   "metadata": {},
   "source": [
    "1. As age seems to be an important determinant in predicting the first destination of a user, maybe a different aproach in collecting this data would make more sense. \n",
    "Example: asking users to add their date of birth instead of their actual age."
   ]
  },
  {
   "cell_type": "code",
   "execution_count": null,
   "metadata": {
    "collapsed": true
   },
   "outputs": [],
   "source": []
  },
  {
   "cell_type": "code",
   "execution_count": null,
   "metadata": {
    "collapsed": true
   },
   "outputs": [],
   "source": []
  },
  {
   "cell_type": "code",
   "execution_count": null,
   "metadata": {
    "collapsed": true
   },
   "outputs": [],
   "source": []
  },
  {
   "cell_type": "code",
   "execution_count": null,
   "metadata": {
    "collapsed": true
   },
   "outputs": [],
   "source": []
  }
 ],
 "metadata": {
  "kernelspec": {
   "display_name": "Python 2",
   "language": "python",
   "name": "python2"
  },
  "language_info": {
   "codemirror_mode": {
    "name": "ipython",
    "version": 2
   },
   "file_extension": ".py",
   "mimetype": "text/x-python",
   "name": "python",
   "nbconvert_exporter": "python",
   "pygments_lexer": "ipython2",
   "version": "2.7.11"
  }
 },
 "nbformat": 4,
 "nbformat_minor": 0
}
